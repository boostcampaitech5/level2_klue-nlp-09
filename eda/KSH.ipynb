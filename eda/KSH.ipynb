{
 "cells": [
  {
   "cell_type": "markdown",
   "id": "2f2306d4",
   "metadata": {},
   "source": [
    "# General Information"
   ]
  },
  {
   "cell_type": "code",
   "execution_count": 2,
   "id": "9bdea1df",
   "metadata": {},
   "outputs": [],
   "source": [
    "import pandas as pd\n",
    "import numpy as np\n",
    "import matplotlib.pyplot as plt\n",
    "from collections import defaultdict\n",
    "\n",
    "import pickle as pickle\n",
    "from transformers import AutoTokenizer\n",
    "from load_data import *"
   ]
  },
  {
   "cell_type": "markdown",
   "id": "19b7313d",
   "metadata": {},
   "source": [
    "## Checking Data"
   ]
  },
  {
   "cell_type": "code",
   "execution_count": 10,
   "id": "2b215dee",
   "metadata": {},
   "outputs": [],
   "source": [
    "train_data = pd.read_csv('./train/train.csv')\n",
    "test_data = pd.read_csv('./test/test_data.csv')"
   ]
  },
  {
   "cell_type": "code",
   "execution_count": 11,
   "id": "4897721f",
   "metadata": {},
   "outputs": [
    {
     "data": {
      "text/html": [
       "<div>\n",
       "<style scoped>\n",
       "    .dataframe tbody tr th:only-of-type {\n",
       "        vertical-align: middle;\n",
       "    }\n",
       "\n",
       "    .dataframe tbody tr th {\n",
       "        vertical-align: top;\n",
       "    }\n",
       "\n",
       "    .dataframe thead th {\n",
       "        text-align: right;\n",
       "    }\n",
       "</style>\n",
       "<table border=\"1\" class=\"dataframe\">\n",
       "  <thead>\n",
       "    <tr style=\"text-align: right;\">\n",
       "      <th></th>\n",
       "      <th>id</th>\n",
       "      <th>sentence</th>\n",
       "      <th>subject_entity</th>\n",
       "      <th>object_entity</th>\n",
       "      <th>label</th>\n",
       "      <th>source</th>\n",
       "    </tr>\n",
       "  </thead>\n",
       "  <tbody>\n",
       "    <tr>\n",
       "      <th>0</th>\n",
       "      <td>0</td>\n",
       "      <td>〈Something〉는 조지 해리슨이 쓰고 비틀즈가 1969년 앨범 《Abbey R...</td>\n",
       "      <td>{'word': '비틀즈', 'start_idx': 24, 'end_idx': 26...</td>\n",
       "      <td>{'word': '조지 해리슨', 'start_idx': 13, 'end_idx':...</td>\n",
       "      <td>no_relation</td>\n",
       "      <td>wikipedia</td>\n",
       "    </tr>\n",
       "    <tr>\n",
       "      <th>1</th>\n",
       "      <td>1</td>\n",
       "      <td>호남이 기반인 바른미래당·대안신당·민주평화당이 우여곡절 끝에 합당해 민생당(가칭)으...</td>\n",
       "      <td>{'word': '민주평화당', 'start_idx': 19, 'end_idx': ...</td>\n",
       "      <td>{'word': '대안신당', 'start_idx': 14, 'end_idx': 1...</td>\n",
       "      <td>no_relation</td>\n",
       "      <td>wikitree</td>\n",
       "    </tr>\n",
       "    <tr>\n",
       "      <th>2</th>\n",
       "      <td>2</td>\n",
       "      <td>K리그2에서 성적 1위를 달리고 있는 광주FC는 지난 26일 한국프로축구연맹으로부터...</td>\n",
       "      <td>{'word': '광주FC', 'start_idx': 21, 'end_idx': 2...</td>\n",
       "      <td>{'word': '한국프로축구연맹', 'start_idx': 34, 'end_idx...</td>\n",
       "      <td>org:member_of</td>\n",
       "      <td>wikitree</td>\n",
       "    </tr>\n",
       "    <tr>\n",
       "      <th>3</th>\n",
       "      <td>3</td>\n",
       "      <td>균일가 생활용품점 (주)아성다이소(대표 박정부)는 코로나19 바이러스로 어려움을 겪...</td>\n",
       "      <td>{'word': '아성다이소', 'start_idx': 13, 'end_idx': ...</td>\n",
       "      <td>{'word': '박정부', 'start_idx': 22, 'end_idx': 24...</td>\n",
       "      <td>org:top_members/employees</td>\n",
       "      <td>wikitree</td>\n",
       "    </tr>\n",
       "    <tr>\n",
       "      <th>4</th>\n",
       "      <td>4</td>\n",
       "      <td>1967년 프로 야구 드래프트 1순위로 요미우리 자이언츠에게 입단하면서 등번호는 8...</td>\n",
       "      <td>{'word': '요미우리 자이언츠', 'start_idx': 22, 'end_id...</td>\n",
       "      <td>{'word': '1967', 'start_idx': 0, 'end_idx': 3,...</td>\n",
       "      <td>no_relation</td>\n",
       "      <td>wikipedia</td>\n",
       "    </tr>\n",
       "    <tr>\n",
       "      <th>...</th>\n",
       "      <td>...</td>\n",
       "      <td>...</td>\n",
       "      <td>...</td>\n",
       "      <td>...</td>\n",
       "      <td>...</td>\n",
       "      <td>...</td>\n",
       "    </tr>\n",
       "    <tr>\n",
       "      <th>32465</th>\n",
       "      <td>32465</td>\n",
       "      <td>한국당은 7일 오전 9시부터 오후 5시까지 진행된 원내대표 및 정책위의장 후보자 등...</td>\n",
       "      <td>{'word': '유기준', 'start_idx': 93, 'end_idx': 95...</td>\n",
       "      <td>{'word': '부산 서구·동구', 'start_idx': 100, 'end_id...</td>\n",
       "      <td>per:employee_of</td>\n",
       "      <td>wikitree</td>\n",
       "    </tr>\n",
       "    <tr>\n",
       "      <th>32466</th>\n",
       "      <td>32466</td>\n",
       "      <td>법포는 다시 최시형, 서병학, 손병희 직계인 북접과 다시 서장옥, 전봉준, 김개남을...</td>\n",
       "      <td>{'word': '최시형', 'start_idx': 7, 'end_idx': 9, ...</td>\n",
       "      <td>{'word': '손병희', 'start_idx': 17, 'end_idx': 19...</td>\n",
       "      <td>per:colleagues</td>\n",
       "      <td>wikipedia</td>\n",
       "    </tr>\n",
       "    <tr>\n",
       "      <th>32467</th>\n",
       "      <td>32467</td>\n",
       "      <td>완도군(군수 신우철)이 국토교통부에서 실시한 '2019 교통문화지수 실태조사'에서 ...</td>\n",
       "      <td>{'word': '완도군', 'start_idx': 0, 'end_idx': 2, ...</td>\n",
       "      <td>{'word': '신우철', 'start_idx': 7, 'end_idx': 9, ...</td>\n",
       "      <td>org:top_members/employees</td>\n",
       "      <td>wikitree</td>\n",
       "    </tr>\n",
       "    <tr>\n",
       "      <th>32468</th>\n",
       "      <td>32468</td>\n",
       "      <td>중앙일보, JTBC 회장을 지낸 이후 중앙홀딩스 회장, 재단법인 한반도평화만들기 이...</td>\n",
       "      <td>{'word': 'JTBC', 'start_idx': 6, 'end_idx': 9,...</td>\n",
       "      <td>{'word': '중앙홀딩스', 'start_idx': 21, 'end_idx': ...</td>\n",
       "      <td>no_relation</td>\n",
       "      <td>wikipedia</td>\n",
       "    </tr>\n",
       "    <tr>\n",
       "      <th>32469</th>\n",
       "      <td>32469</td>\n",
       "      <td>화순군(군수 구충곤)은 17일 동면의 이장 20여 명이 코로나 19 예방을 위해 버...</td>\n",
       "      <td>{'word': '화순군', 'start_idx': 0, 'end_idx': 2, ...</td>\n",
       "      <td>{'word': '구충곤', 'start_idx': 7, 'end_idx': 9, ...</td>\n",
       "      <td>org:top_members/employees</td>\n",
       "      <td>wikitree</td>\n",
       "    </tr>\n",
       "  </tbody>\n",
       "</table>\n",
       "<p>32470 rows × 6 columns</p>\n",
       "</div>"
      ],
      "text/plain": [
       "          id                                           sentence  \\\n",
       "0          0  〈Something〉는 조지 해리슨이 쓰고 비틀즈가 1969년 앨범 《Abbey R...   \n",
       "1          1  호남이 기반인 바른미래당·대안신당·민주평화당이 우여곡절 끝에 합당해 민생당(가칭)으...   \n",
       "2          2  K리그2에서 성적 1위를 달리고 있는 광주FC는 지난 26일 한국프로축구연맹으로부터...   \n",
       "3          3  균일가 생활용품점 (주)아성다이소(대표 박정부)는 코로나19 바이러스로 어려움을 겪...   \n",
       "4          4  1967년 프로 야구 드래프트 1순위로 요미우리 자이언츠에게 입단하면서 등번호는 8...   \n",
       "...      ...                                                ...   \n",
       "32465  32465  한국당은 7일 오전 9시부터 오후 5시까지 진행된 원내대표 및 정책위의장 후보자 등...   \n",
       "32466  32466  법포는 다시 최시형, 서병학, 손병희 직계인 북접과 다시 서장옥, 전봉준, 김개남을...   \n",
       "32467  32467  완도군(군수 신우철)이 국토교통부에서 실시한 '2019 교통문화지수 실태조사'에서 ...   \n",
       "32468  32468  중앙일보, JTBC 회장을 지낸 이후 중앙홀딩스 회장, 재단법인 한반도평화만들기 이...   \n",
       "32469  32469  화순군(군수 구충곤)은 17일 동면의 이장 20여 명이 코로나 19 예방을 위해 버...   \n",
       "\n",
       "                                          subject_entity  \\\n",
       "0      {'word': '비틀즈', 'start_idx': 24, 'end_idx': 26...   \n",
       "1      {'word': '민주평화당', 'start_idx': 19, 'end_idx': ...   \n",
       "2      {'word': '광주FC', 'start_idx': 21, 'end_idx': 2...   \n",
       "3      {'word': '아성다이소', 'start_idx': 13, 'end_idx': ...   \n",
       "4      {'word': '요미우리 자이언츠', 'start_idx': 22, 'end_id...   \n",
       "...                                                  ...   \n",
       "32465  {'word': '유기준', 'start_idx': 93, 'end_idx': 95...   \n",
       "32466  {'word': '최시형', 'start_idx': 7, 'end_idx': 9, ...   \n",
       "32467  {'word': '완도군', 'start_idx': 0, 'end_idx': 2, ...   \n",
       "32468  {'word': 'JTBC', 'start_idx': 6, 'end_idx': 9,...   \n",
       "32469  {'word': '화순군', 'start_idx': 0, 'end_idx': 2, ...   \n",
       "\n",
       "                                           object_entity  \\\n",
       "0      {'word': '조지 해리슨', 'start_idx': 13, 'end_idx':...   \n",
       "1      {'word': '대안신당', 'start_idx': 14, 'end_idx': 1...   \n",
       "2      {'word': '한국프로축구연맹', 'start_idx': 34, 'end_idx...   \n",
       "3      {'word': '박정부', 'start_idx': 22, 'end_idx': 24...   \n",
       "4      {'word': '1967', 'start_idx': 0, 'end_idx': 3,...   \n",
       "...                                                  ...   \n",
       "32465  {'word': '부산 서구·동구', 'start_idx': 100, 'end_id...   \n",
       "32466  {'word': '손병희', 'start_idx': 17, 'end_idx': 19...   \n",
       "32467  {'word': '신우철', 'start_idx': 7, 'end_idx': 9, ...   \n",
       "32468  {'word': '중앙홀딩스', 'start_idx': 21, 'end_idx': ...   \n",
       "32469  {'word': '구충곤', 'start_idx': 7, 'end_idx': 9, ...   \n",
       "\n",
       "                           label     source  \n",
       "0                    no_relation  wikipedia  \n",
       "1                    no_relation   wikitree  \n",
       "2                  org:member_of   wikitree  \n",
       "3      org:top_members/employees   wikitree  \n",
       "4                    no_relation  wikipedia  \n",
       "...                          ...        ...  \n",
       "32465            per:employee_of   wikitree  \n",
       "32466             per:colleagues  wikipedia  \n",
       "32467  org:top_members/employees   wikitree  \n",
       "32468                no_relation  wikipedia  \n",
       "32469  org:top_members/employees   wikitree  \n",
       "\n",
       "[32470 rows x 6 columns]"
      ]
     },
     "execution_count": 11,
     "metadata": {},
     "output_type": "execute_result"
    }
   ],
   "source": [
    "train_data"
   ]
  },
  {
   "cell_type": "code",
   "execution_count": 12,
   "id": "3a147525",
   "metadata": {},
   "outputs": [
    {
     "data": {
      "text/html": [
       "<div>\n",
       "<style scoped>\n",
       "    .dataframe tbody tr th:only-of-type {\n",
       "        vertical-align: middle;\n",
       "    }\n",
       "\n",
       "    .dataframe tbody tr th {\n",
       "        vertical-align: top;\n",
       "    }\n",
       "\n",
       "    .dataframe thead th {\n",
       "        text-align: right;\n",
       "    }\n",
       "</style>\n",
       "<table border=\"1\" class=\"dataframe\">\n",
       "  <thead>\n",
       "    <tr style=\"text-align: right;\">\n",
       "      <th></th>\n",
       "      <th>id</th>\n",
       "      <th>sentence</th>\n",
       "      <th>subject_entity</th>\n",
       "      <th>object_entity</th>\n",
       "      <th>label</th>\n",
       "      <th>source</th>\n",
       "    </tr>\n",
       "  </thead>\n",
       "  <tbody>\n",
       "    <tr>\n",
       "      <th>0</th>\n",
       "      <td>0</td>\n",
       "      <td>지난 15일 MBC '탐사기획 스트레이트'가 이 사실을 보도했다.</td>\n",
       "      <td>{'word': 'MBC', 'start_idx': 7, 'end_idx': 9, ...</td>\n",
       "      <td>{'word': '탐사기획 스트레이트', 'start_idx': 12, 'end_i...</td>\n",
       "      <td>100</td>\n",
       "      <td>wikitree</td>\n",
       "    </tr>\n",
       "    <tr>\n",
       "      <th>1</th>\n",
       "      <td>1</td>\n",
       "      <td>사랑스러운 ‘프린세스 프링’의 이름은 봄의 공주님: Princess(s)Pring이...</td>\n",
       "      <td>{'word': '프린세스 프링', 'start_idx': 7, 'end_idx':...</td>\n",
       "      <td>{'word': '공주', 'start_idx': 84, 'end_idx': 85,...</td>\n",
       "      <td>100</td>\n",
       "      <td>wikipedia</td>\n",
       "    </tr>\n",
       "    <tr>\n",
       "      <th>2</th>\n",
       "      <td>2</td>\n",
       "      <td>한편, 본인(이근안)을 모델로 한 MBC 특집드라마 가 1995년 6.25 특집극으...</td>\n",
       "      <td>{'word': '경찰', 'start_idx': 121, 'end_idx': 12...</td>\n",
       "      <td>{'word': '1995년', 'start_idx': 31, 'end_idx': ...</td>\n",
       "      <td>100</td>\n",
       "      <td>wikipedia</td>\n",
       "    </tr>\n",
       "    <tr>\n",
       "      <th>3</th>\n",
       "      <td>3</td>\n",
       "      <td>정창손은 김질과 같이 대궐로 달려가 고변하며 '신은 실로 모르고 김질만 혼자 참여하...</td>\n",
       "      <td>{'word': '세조', 'start_idx': 78, 'end_idx': 79,...</td>\n",
       "      <td>{'word': '정창손', 'start_idx': 0, 'end_idx': 2, ...</td>\n",
       "      <td>100</td>\n",
       "      <td>wikipedia</td>\n",
       "    </tr>\n",
       "    <tr>\n",
       "      <th>4</th>\n",
       "      <td>4</td>\n",
       "      <td>당시 민주당 이진련 시의원은 권영진 시장에게 \"긴급 생계자금을 왜 현금으로 지원하지...</td>\n",
       "      <td>{'word': '민주당', 'start_idx': 3, 'end_idx': 5, ...</td>\n",
       "      <td>{'word': '권영진', 'start_idx': 16, 'end_idx': 18...</td>\n",
       "      <td>100</td>\n",
       "      <td>wikitree</td>\n",
       "    </tr>\n",
       "    <tr>\n",
       "      <th>...</th>\n",
       "      <td>...</td>\n",
       "      <td>...</td>\n",
       "      <td>...</td>\n",
       "      <td>...</td>\n",
       "      <td>...</td>\n",
       "      <td>...</td>\n",
       "    </tr>\n",
       "    <tr>\n",
       "      <th>7760</th>\n",
       "      <td>7760</td>\n",
       "      <td>코로나19 방역 조치의 일환으로 국민의 움직임을 통제하려는 정부의 시도를 이탈리아 ...</td>\n",
       "      <td>{'word': '정부', 'start_idx': 33, 'end_idx': 34,...</td>\n",
       "      <td>{'word': '이탈리아', 'start_idx': 41, 'end_idx': 4...</td>\n",
       "      <td>100</td>\n",
       "      <td>wikitree</td>\n",
       "    </tr>\n",
       "    <tr>\n",
       "      <th>7761</th>\n",
       "      <td>7761</td>\n",
       "      <td>선 연구원은 “위식도역류질환치료제인 케이캡이 92억원 판매되면서 2019년 연간 3...</td>\n",
       "      <td>{'word': '종근당', 'start_idx': 133, 'end_idx': 1...</td>\n",
       "      <td>{'word': '전년', 'start_idx': 143, 'end_idx': 14...</td>\n",
       "      <td>100</td>\n",
       "      <td>wikitree</td>\n",
       "    </tr>\n",
       "    <tr>\n",
       "      <th>7762</th>\n",
       "      <td>7762</td>\n",
       "      <td>한국전기안전공사(사장 조성완)는 8월 1일부로, 3급 간부직원에 대한 승진·이동 인...</td>\n",
       "      <td>{'word': '한국전기안전공사', 'start_idx': 0, 'end_idx'...</td>\n",
       "      <td>{'word': '조성완', 'start_idx': 12, 'end_idx': 14...</td>\n",
       "      <td>100</td>\n",
       "      <td>wikitree</td>\n",
       "    </tr>\n",
       "    <tr>\n",
       "      <th>7763</th>\n",
       "      <td>7763</td>\n",
       "      <td>1987년 B. 슈나이더(B. Schneider)에 의해 만들어졌다.</td>\n",
       "      <td>{'word': 'B. 슈나이더', 'start_idx': 6, 'end_idx':...</td>\n",
       "      <td>{'word': '1987년', 'start_idx': 0, 'end_idx': 4...</td>\n",
       "      <td>100</td>\n",
       "      <td>wikipedia</td>\n",
       "    </tr>\n",
       "    <tr>\n",
       "      <th>7764</th>\n",
       "      <td>7764</td>\n",
       "      <td>이승옥 강진군수는 2일 NH농협은행 강진군지부(지부장 강대형)를 방문해 부품·소재·...</td>\n",
       "      <td>{'word': '이승옥', 'start_idx': 0, 'end_idx': 2, ...</td>\n",
       "      <td>{'word': '2일', 'start_idx': 10, 'end_idx': 11,...</td>\n",
       "      <td>100</td>\n",
       "      <td>wikitree</td>\n",
       "    </tr>\n",
       "  </tbody>\n",
       "</table>\n",
       "<p>7765 rows × 6 columns</p>\n",
       "</div>"
      ],
      "text/plain": [
       "        id                                           sentence  \\\n",
       "0        0               지난 15일 MBC '탐사기획 스트레이트'가 이 사실을 보도했다.   \n",
       "1        1  사랑스러운 ‘프린세스 프링’의 이름은 봄의 공주님: Princess(s)Pring이...   \n",
       "2        2  한편, 본인(이근안)을 모델로 한 MBC 특집드라마 가 1995년 6.25 특집극으...   \n",
       "3        3  정창손은 김질과 같이 대궐로 달려가 고변하며 '신은 실로 모르고 김질만 혼자 참여하...   \n",
       "4        4  당시 민주당 이진련 시의원은 권영진 시장에게 \"긴급 생계자금을 왜 현금으로 지원하지...   \n",
       "...    ...                                                ...   \n",
       "7760  7760  코로나19 방역 조치의 일환으로 국민의 움직임을 통제하려는 정부의 시도를 이탈리아 ...   \n",
       "7761  7761  선 연구원은 “위식도역류질환치료제인 케이캡이 92억원 판매되면서 2019년 연간 3...   \n",
       "7762  7762  한국전기안전공사(사장 조성완)는 8월 1일부로, 3급 간부직원에 대한 승진·이동 인...   \n",
       "7763  7763             1987년 B. 슈나이더(B. Schneider)에 의해 만들어졌다.   \n",
       "7764  7764  이승옥 강진군수는 2일 NH농협은행 강진군지부(지부장 강대형)를 방문해 부품·소재·...   \n",
       "\n",
       "                                         subject_entity  \\\n",
       "0     {'word': 'MBC', 'start_idx': 7, 'end_idx': 9, ...   \n",
       "1     {'word': '프린세스 프링', 'start_idx': 7, 'end_idx':...   \n",
       "2     {'word': '경찰', 'start_idx': 121, 'end_idx': 12...   \n",
       "3     {'word': '세조', 'start_idx': 78, 'end_idx': 79,...   \n",
       "4     {'word': '민주당', 'start_idx': 3, 'end_idx': 5, ...   \n",
       "...                                                 ...   \n",
       "7760  {'word': '정부', 'start_idx': 33, 'end_idx': 34,...   \n",
       "7761  {'word': '종근당', 'start_idx': 133, 'end_idx': 1...   \n",
       "7762  {'word': '한국전기안전공사', 'start_idx': 0, 'end_idx'...   \n",
       "7763  {'word': 'B. 슈나이더', 'start_idx': 6, 'end_idx':...   \n",
       "7764  {'word': '이승옥', 'start_idx': 0, 'end_idx': 2, ...   \n",
       "\n",
       "                                          object_entity  label     source  \n",
       "0     {'word': '탐사기획 스트레이트', 'start_idx': 12, 'end_i...    100   wikitree  \n",
       "1     {'word': '공주', 'start_idx': 84, 'end_idx': 85,...    100  wikipedia  \n",
       "2     {'word': '1995년', 'start_idx': 31, 'end_idx': ...    100  wikipedia  \n",
       "3     {'word': '정창손', 'start_idx': 0, 'end_idx': 2, ...    100  wikipedia  \n",
       "4     {'word': '권영진', 'start_idx': 16, 'end_idx': 18...    100   wikitree  \n",
       "...                                                 ...    ...        ...  \n",
       "7760  {'word': '이탈리아', 'start_idx': 41, 'end_idx': 4...    100   wikitree  \n",
       "7761  {'word': '전년', 'start_idx': 143, 'end_idx': 14...    100   wikitree  \n",
       "7762  {'word': '조성완', 'start_idx': 12, 'end_idx': 14...    100   wikitree  \n",
       "7763  {'word': '1987년', 'start_idx': 0, 'end_idx': 4...    100  wikipedia  \n",
       "7764  {'word': '2일', 'start_idx': 10, 'end_idx': 11,...    100   wikitree  \n",
       "\n",
       "[7765 rows x 6 columns]"
      ]
     },
     "execution_count": 12,
     "metadata": {},
     "output_type": "execute_result"
    }
   ],
   "source": [
    "test_data"
   ]
  },
  {
   "cell_type": "code",
   "execution_count": 13,
   "id": "136fb159",
   "metadata": {
    "scrolled": true
   },
   "outputs": [
    {
     "name": "stdout",
     "output_type": "stream",
     "text": [
      "32470\n",
      "32470\n",
      "\n",
      "7765\n",
      "7765\n"
     ]
    }
   ],
   "source": [
    "print(len(train_data))\n",
    "print(len(train_data.drop_duplicates()))\n",
    "\n",
    "print()\n",
    "\n",
    "print(len(test_data))\n",
    "print(len(test_data.drop_duplicates()))"
   ]
  },
  {
   "cell_type": "markdown",
   "id": "2da7cc67",
   "metadata": {},
   "source": [
    "## Checking Labels"
   ]
  },
  {
   "cell_type": "code",
   "execution_count": 15,
   "id": "d83f6fb0",
   "metadata": {},
   "outputs": [
    {
     "data": {
      "text/plain": [
       "0                      no_relation\n",
       "1                      no_relation\n",
       "2                    org:member_of\n",
       "3        org:top_members/employees\n",
       "4                      no_relation\n",
       "                   ...            \n",
       "32465              per:employee_of\n",
       "32466               per:colleagues\n",
       "32467    org:top_members/employees\n",
       "32468                  no_relation\n",
       "32469    org:top_members/employees\n",
       "Name: label, Length: 32470, dtype: object"
      ]
     },
     "execution_count": 15,
     "metadata": {},
     "output_type": "execute_result"
    }
   ],
   "source": [
    "train_labels = train_data.label\n",
    "train_labels"
   ]
  },
  {
   "cell_type": "code",
   "execution_count": 16,
   "id": "b855ae62",
   "metadata": {},
   "outputs": [
    {
     "data": {
      "text/plain": [
       "array(['no_relation', 'org:member_of', 'org:top_members/employees',\n",
       "       'org:alternate_names', 'per:date_of_birth',\n",
       "       'org:place_of_headquarters', 'per:employee_of', 'per:origin',\n",
       "       'per:title', 'org:members', 'per:schools_attended',\n",
       "       'per:colleagues', 'per:alternate_names', 'per:spouse',\n",
       "       'org:founded_by', 'org:political/religious_affiliation',\n",
       "       'per:children', 'org:founded', 'org:number_of_employees/members',\n",
       "       'per:place_of_birth', 'org:dissolved', 'per:parents',\n",
       "       'per:religion', 'per:date_of_death', 'per:place_of_residence',\n",
       "       'per:other_family', 'org:product', 'per:siblings', 'per:product',\n",
       "       'per:place_of_death'], dtype=object)"
      ]
     },
     "execution_count": 16,
     "metadata": {},
     "output_type": "execute_result"
    }
   ],
   "source": [
    "train_labels_uniq = train_labels.unique()\n",
    "train_labels_uniq"
   ]
  },
  {
   "cell_type": "code",
   "execution_count": 17,
   "id": "a73a423d",
   "metadata": {},
   "outputs": [
    {
     "data": {
      "text/plain": [
       "30"
      ]
     },
     "execution_count": 17,
     "metadata": {},
     "output_type": "execute_result"
    }
   ],
   "source": [
    "train_labels.nunique()"
   ]
  },
  {
   "cell_type": "code",
   "execution_count": 18,
   "id": "040755c0",
   "metadata": {},
   "outputs": [
    {
     "data": {
      "text/plain": [
       "{'no_relation': 'nr',\n",
       " 'org:top_members/employees': 'o:t_m/e',\n",
       " 'org:members': 'o:m',\n",
       " 'org:product': 'o:p',\n",
       " 'per:title': 'p:t',\n",
       " 'org:alternate_names': 'o:a_n',\n",
       " 'per:employee_of': 'o:e_o',\n",
       " 'org:place_of_headquarters': 'o:p_o_h',\n",
       " 'per:product': 'p:pr',\n",
       " 'org:number_of_employees/members': 'o:n_o_e/m',\n",
       " 'per:children': 'p:ch',\n",
       " 'per:place_of_residence': 'p:p_o_r',\n",
       " 'per:alternate_names': 'p:a_n',\n",
       " 'per:other_family': 'p:o_f',\n",
       " 'per:colleagues': 'p:co',\n",
       " 'per:origin': 'p:o',\n",
       " 'per:siblings': 'p:si',\n",
       " 'per:spouse': 'p:sp',\n",
       " 'org:founded': 'o:f',\n",
       " 'org:political/religious_affiliation': 'o:p/r_a',\n",
       " 'org:member_of': 'o:m_o',\n",
       " 'per:parents': 'p:pa',\n",
       " 'org:dissolved': 'o:d',\n",
       " 'per:schools_attended': 'p:s_a',\n",
       " 'per:date_of_death': 'p:d_o_d',\n",
       " 'per:date_of_birth': 'p:d_o_b',\n",
       " 'per:place_of_birth': 'p:p_o_b',\n",
       " 'per:place_of_death': 'p:p_o_d',\n",
       " 'org:founded_by': 'o:f_b',\n",
       " 'per:religion': 'p:r'}"
      ]
     },
     "execution_count": 18,
     "metadata": {},
     "output_type": "execute_result"
    }
   ],
   "source": [
    "train_labels_dict = {'no_relation': 0, \n",
    "                     'org:top_members/employees': 1, \n",
    "                     'org:members': 2, \n",
    "                     'org:product': 3, \n",
    "                     'per:title': 4, \n",
    "                     'org:alternate_names': 5, \n",
    "                     'per:employee_of': 6, \n",
    "                     'org:place_of_headquarters': 7, \n",
    "                     'per:product': 8, \n",
    "                     'org:number_of_employees/members': 9, \n",
    "                     'per:children': 10, \n",
    "                     'per:place_of_residence': 11, \n",
    "                     'per:alternate_names': 12, \n",
    "                     'per:other_family': 13, \n",
    "                     'per:colleagues': 14, \n",
    "                     'per:origin': 15, \n",
    "                     'per:siblings': 16, \n",
    "                     'per:spouse': 17, \n",
    "                     'org:founded': 18, \n",
    "                     'org:political/religious_affiliation': 19, \n",
    "                     'org:member_of': 20, \n",
    "                     'per:parents': 21, \n",
    "                     'org:dissolved': 22, \n",
    "                     'per:schools_attended': 23, \n",
    "                     'per:date_of_death': 24, \n",
    "                     'per:date_of_birth': 25, \n",
    "                     'per:place_of_birth': 26, \n",
    "                     'per:place_of_death': 27, \n",
    "                     'org:founded_by': 28, \n",
    "                     'per:religion': 29}\n",
    "\n",
    "label2nick = {0: 'nr',\n",
    "              1: 'o:t_m/e',\n",
    "              2: 'o:m',\n",
    "              3: 'o:p',\n",
    "              4: 'p:t',\n",
    "              5: 'o:a_n',\n",
    "              6: 'o:e_o',\n",
    "              7: 'o:p_o_h',\n",
    "              8: 'p:pr',\n",
    "              9: 'o:n_o_e/m',\n",
    "             10: 'p:ch',\n",
    "             11: 'p:p_o_r',\n",
    "             12: 'p:a_n',\n",
    "             13: 'p:o_f',\n",
    "             14: 'p:co',\n",
    "             15: 'p:o',\n",
    "             16: 'p:si',\n",
    "             17: 'p:sp',\n",
    "             18: 'o:f',\n",
    "             19: 'o:p/r_a',\n",
    "             20: 'o:m_o',\n",
    "             21: 'p:pa',\n",
    "             22: 'o:d',\n",
    "             23: 'p:s_a',\n",
    "             24: 'p:d_o_d',\n",
    "             25: 'p:d_o_b',\n",
    "             26: 'p:p_o_b',\n",
    "             27: 'p:p_o_d',\n",
    "             28: 'o:f_b',\n",
    "             29: 'p:r'}\n",
    "\n",
    "name2nick = {}\n",
    "for tld in train_labels_dict.items():\n",
    "    name2nick[tld[0]] = label2nick[tld[1]]\n",
    "name2nick"
   ]
  },
  {
   "cell_type": "code",
   "execution_count": 19,
   "id": "2d115e0e",
   "metadata": {},
   "outputs": [
    {
     "data": {
      "text/plain": [
       "defaultdict(int,\n",
       "            {'nr': 9534,\n",
       "             'o:m_o': 1866,\n",
       "             'o:t_m/e': 4284,\n",
       "             'o:a_n': 1320,\n",
       "             'p:d_o_b': 1130,\n",
       "             'o:p_o_h': 1195,\n",
       "             'o:e_o': 3573,\n",
       "             'p:o': 1234,\n",
       "             'p:t': 2103,\n",
       "             'o:m': 420,\n",
       "             'p:s_a': 82,\n",
       "             'p:co': 534,\n",
       "             'p:a_n': 1001,\n",
       "             'p:sp': 795,\n",
       "             'o:f_b': 155,\n",
       "             'o:p/r_a': 98,\n",
       "             'p:ch': 304,\n",
       "             'o:f': 450,\n",
       "             'o:n_o_e/m': 48,\n",
       "             'p:p_o_b': 166,\n",
       "             'o:d': 66,\n",
       "             'p:pa': 520,\n",
       "             'p:r': 96,\n",
       "             'p:d_o_d': 418,\n",
       "             'p:p_o_r': 193,\n",
       "             'p:o_f': 190,\n",
       "             'o:p': 380,\n",
       "             'p:si': 136,\n",
       "             'p:pr': 139,\n",
       "             'p:p_o_d': 40})"
      ]
     },
     "execution_count": 19,
     "metadata": {},
     "output_type": "execute_result"
    }
   ],
   "source": [
    "train_labels_num_dict = defaultdict(int)\n",
    "for train_label in train_labels:\n",
    "    train_labels_num_dict[name2nick[train_label]] += 1\n",
    "    \n",
    "train_labels_num_dict # tlnd"
   ]
  },
  {
   "cell_type": "code",
   "execution_count": 20,
   "id": "218fe553",
   "metadata": {},
   "outputs": [
    {
     "name": "stdout",
     "output_type": "stream",
     "text": [
      "max:  9534\n",
      "min:  40\n"
     ]
    }
   ],
   "source": [
    "print(\"max: \", max(train_labels_num_dict.values()))\n",
    "print(\"min: \", min(train_labels_num_dict.values()))"
   ]
  },
  {
   "cell_type": "code",
   "execution_count": 21,
   "id": "9d444fd4",
   "metadata": {},
   "outputs": [
    {
     "name": "stdout",
     "output_type": "stream",
     "text": [
      "['nr', 'o:t_m/e', 'o:e_o', 'p:t', 'o:m_o', 'o:a_n', 'p:o', 'o:p_o_h', 'p:d_o_b', 'p:a_n', 'p:sp', 'p:co', 'p:pa', 'o:f', 'o:m', 'p:d_o_d', 'o:p', 'p:ch', 'p:p_o_r', 'p:o_f', 'p:p_o_b', 'o:f_b', 'p:pr', 'p:si', 'o:p/r_a', 'p:r', 'p:s_a', 'o:d', 'o:n_o_e/m', 'p:p_o_d']\n",
      "[9534, 4284, 3573, 2103, 1866, 1320, 1234, 1195, 1130, 1001, 795, 534, 520, 450, 420, 418, 380, 304, 193, 190, 166, 155, 139, 136, 98, 96, 82, 66, 48, 40]\n"
     ]
    }
   ],
   "source": [
    "tlnd4plt_sorted = sorted(train_labels_num_dict.items(), reverse=True, key=lambda x: x[1])\n",
    "tlnd4plt_sorted_keys = [ts[0] for ts in tlnd4plt_sorted]\n",
    "print(tlnd4plt_sorted_keys)\n",
    "tlnd4plt_sorted_values = [ts[1] for ts in tlnd4plt_sorted]\n",
    "print(tlnd4plt_sorted_values)"
   ]
  },
  {
   "cell_type": "code",
   "execution_count": 22,
   "id": "f4a48ff1",
   "metadata": {},
   "outputs": [
    {
     "data": {
      "image/png": "[encoded data removed]",
      "text/plain": [
       "<Figure size 1200x700 with 1 Axes>"
      ]
     },
     "metadata": {},
     "output_type": "display_data"
    }
   ],
   "source": [
    "fig, ax = plt.subplots(1, 1, figsize=(12, 7))\n",
    "clist = []\n",
    "for tlnd in tlnd4plt_sorted_keys:\n",
    "    if tlnd.startswith('o'):\n",
    "        clist.append('blue')\n",
    "    elif tlnd.startswith('p'):\n",
    "        clist.append('red')\n",
    "    else:\n",
    "        clist.append('gray')\n",
    "ax.bar(tlnd4plt_sorted_keys, tlnd4plt_sorted_values, color=clist)\n",
    "plt.xticks(rotation='vertical')\n",
    "\n",
    "for idx, value in enumerate(tlnd4plt_sorted_values):\n",
    "    ax.text(idx, value+100, s=value, ha='center', fontweight='bold', fontsize=7)\n",
    "    \n",
    "plt.show()"
   ]
  },
  {
   "cell_type": "code",
   "execution_count": 27,
   "id": "216260f8",
   "metadata": {},
   "outputs": [
    {
     "data": {
      "text/plain": [
       "defaultdict(int, {'NR': 9534, 'ORG': 13855, 'PER': 9081})"
      ]
     },
     "execution_count": 27,
     "metadata": {},
     "output_type": "execute_result"
    }
   ],
   "source": [
    "train_labels_nop = defaultdict(int)\n",
    "train_labels_n = defaultdict(int)\n",
    "train_labels_o = defaultdict(int)\n",
    "train_labels_p = defaultdict(int)\n",
    "for tlnd_k, tlnd_v in train_labels_num_dict.items():\n",
    "    if tlnd_k.startswith('o'):\n",
    "        train_labels_nop[\"ORG\"] += tlnd_v\n",
    "        train_labels_o[tlnd_k] += tlnd_v\n",
    "    elif tlnd_k.startswith('p'):\n",
    "        train_labels_nop[\"PER\"] += tlnd_v\n",
    "        train_labels_p[tlnd_k] += tlnd_v\n",
    "    else:\n",
    "        train_labels_nop[\"NR\"] += tlnd_v\n",
    "        train_labels_n[tlnd_k] += tlnd_v\n",
    "        \n",
    "train_labels_nop"
   ]
  },
  {
   "cell_type": "code",
   "execution_count": 28,
   "id": "887e56ba",
   "metadata": {},
   "outputs": [
    {
     "data": {
      "text/plain": [
       "defaultdict(int,\n",
       "            {'o:m_o': 1866,\n",
       "             'o:t_m/e': 4284,\n",
       "             'o:a_n': 1320,\n",
       "             'o:p_o_h': 1195,\n",
       "             'o:e_o': 3573,\n",
       "             'o:m': 420,\n",
       "             'o:f_b': 155,\n",
       "             'o:p/r_a': 98,\n",
       "             'o:f': 450,\n",
       "             'o:n_o_e/m': 48,\n",
       "             'o:d': 66,\n",
       "             'o:p': 380})"
      ]
     },
     "execution_count": 28,
     "metadata": {},
     "output_type": "execute_result"
    }
   ],
   "source": [
    "train_labels_o"
   ]
  },
  {
   "cell_type": "code",
   "execution_count": 29,
   "id": "6226549f",
   "metadata": {},
   "outputs": [
    {
     "data": {
      "image/png": "[encoded data removed]",
      "text/plain": [
       "<Figure size 1200x700 with 1 Axes>"
      ]
     },
     "metadata": {},
     "output_type": "display_data"
    }
   ],
   "source": [
    "fig, ax = plt.subplots(1, 1, figsize=(12, 7))\n",
    "clist = ['gray', 'blue', 'red']\n",
    "ax.bar(train_labels_nop.keys(), train_labels_nop.values(), color=clist)\n",
    "\n",
    "for idx, value in enumerate(train_labels_nop.values()):\n",
    "    ax.text(idx, value+100, s=value, ha='center', fontweight='bold', fontsize=10)\n",
    "    \n",
    "plt.show()"
   ]
  },
  {
   "cell_type": "code",
   "execution_count": 30,
   "id": "cd722326",
   "metadata": {},
   "outputs": [
    {
     "data": {
      "image/png": "[encoded data removed]",
      "text/plain": [
       "<Figure size 1200x1200 with 2 Axes>"
      ]
     },
     "metadata": {},
     "output_type": "display_data"
    }
   ],
   "source": [
    "fig, axes = plt.subplots(2, 1, figsize=(12, 12))\n",
    "\n",
    "axes[0].bar(train_labels_o.keys(), train_labels_o.values(), color='blue')\n",
    "for idx, value in enumerate(train_labels_o.values()):\n",
    "    ax.text(idx, value+100, s=value, ha='center', fontweight='bold', fontsize=10)\n",
    "    \n",
    "axes[1].bar(train_labels_p.keys(), train_labels_p.values(), color='red')\n",
    "for idx, value in enumerate(train_labels_p.values()):\n",
    "    ax.text(idx, value+100, s=value, ha='center', fontweight='bold', fontsize=10)\n",
    "    \n",
    "plt.show()"
   ]
  },
  {
   "cell_type": "markdown",
   "id": "6287ebcf",
   "metadata": {},
   "source": [
    "## Checking Sources"
   ]
  },
  {
   "cell_type": "markdown",
   "id": "e432adbb",
   "metadata": {},
   "source": [
    "### Total Data's Source Distribution"
   ]
  },
  {
   "cell_type": "code",
   "execution_count": 131,
   "id": "41481b94",
   "metadata": {},
   "outputs": [
    {
     "data": {
      "text/plain": [
       "0        wikipedia\n",
       "1         wikitree\n",
       "2         wikitree\n",
       "3         wikitree\n",
       "4        wikipedia\n",
       "           ...    \n",
       "32465     wikitree\n",
       "32466    wikipedia\n",
       "32467     wikitree\n",
       "32468    wikipedia\n",
       "32469     wikitree\n",
       "Name: source, Length: 32470, dtype: object"
      ]
     },
     "execution_count": 131,
     "metadata": {},
     "output_type": "execute_result"
    }
   ],
   "source": [
    "train_sources = train_data.source\n",
    "test_sources = test_data.source\n",
    "train_sources"
   ]
  },
  {
   "cell_type": "code",
   "execution_count": 132,
   "id": "c8330d3d",
   "metadata": {},
   "outputs": [],
   "source": [
    "train_sources_num_dict = defaultdict(int)\n",
    "test_sources_num_dict = defaultdict(int)\n",
    "for train_source in train_sources:\n",
    "    train_sources_num_dict[train_source] += 1\n",
    "for test_source in test_sources:\n",
    "    test_sources_num_dict[test_source] += 1"
   ]
  },
  {
   "cell_type": "code",
   "execution_count": 133,
   "id": "060e3a0e",
   "metadata": {
    "scrolled": true
   },
   "outputs": [
    {
     "data": {
      "text/plain": [
       "defaultdict(int,\n",
       "            {'wikipedia': 21620, 'wikitree': 10672, 'policy_briefing': 178})"
      ]
     },
     "execution_count": 133,
     "metadata": {},
     "output_type": "execute_result"
    }
   ],
   "source": [
    "train_sources_num_dict # train_snd"
   ]
  },
  {
   "cell_type": "code",
   "execution_count": 134,
   "id": "2b7a64cd",
   "metadata": {},
   "outputs": [
    {
     "data": {
      "text/plain": [
       "defaultdict(int, {'wikitree': 4088, 'wikipedia': 3621, 'policy_briefing': 56})"
      ]
     },
     "execution_count": 134,
     "metadata": {},
     "output_type": "execute_result"
    }
   ],
   "source": [
    "test_sources_num_dict # test_snd"
   ]
  },
  {
   "cell_type": "code",
   "execution_count": 137,
   "id": "9f52b39b",
   "metadata": {},
   "outputs": [
    {
     "name": "stdout",
     "output_type": "stream",
     "text": [
      "Train Data Sources\n",
      "['wikipedia', 'wikitree', 'policy_briefing']\n",
      "[21620, 10672, 178]\n",
      "\n",
      "Test Data Sources\n",
      "['wikitree', 'wikipedia', 'policy_briefing']\n",
      "[4088, 3621, 56]\n"
     ]
    }
   ],
   "source": [
    "print(\"Train Data Sources\")\n",
    "train_snd4plt_sorted = sorted(train_sources_num_dict.items(), reverse=True, key=lambda x: x[1])\n",
    "train_snd4plt_sorted_keys = [ts[0] for ts in train_snd4plt_sorted]\n",
    "print(train_snd4plt_sorted_keys)\n",
    "train_snd4plt_sorted_values = [ts[1] for ts in train_snd4plt_sorted]\n",
    "print(train_snd4plt_sorted_values)\n",
    "\n",
    "print(\"\\nTest Data Sources\")\n",
    "test_snd4plt_sorted = sorted(test_sources_num_dict.items(), reverse=True, key=lambda x: x[1])\n",
    "test_snd4plt_sorted_keys = [ts[0] for ts in test_snd4plt_sorted]\n",
    "print(test_snd4plt_sorted_keys)\n",
    "test_snd4plt_sorted_values = [ts[1] for ts in test_snd4plt_sorted]\n",
    "print(test_snd4plt_sorted_values)"
   ]
  },
  {
   "cell_type": "code",
   "execution_count": 141,
   "id": "a12e7ff2",
   "metadata": {},
   "outputs": [
    {
     "data": {
      "image/png": "[encoded data removed]",
      "text/plain": [
       "<Figure size 1200x700 with 1 Axes>"
      ]
     },
     "metadata": {},
     "output_type": "display_data"
    }
   ],
   "source": [
    "fig, ax = plt.subplots(1, 1, figsize=(12, 7))\n",
    "clist = ['pink', 'orange', 'green']\n",
    "ax.bar(train_snd4plt_sorted_keys, train_snd4plt_sorted_values, color=clist)\n",
    "ax.set_title(\"Train Data Sources\", fontweight='bold')\n",
    "\n",
    "for idx, value in enumerate(train_snd4plt_sorted_values):\n",
    "    ax.text(x=idx, y=value+100, s=value, ha='center', fontweight='bold')\n",
    "    \n",
    "plt.show()"
   ]
  },
  {
   "cell_type": "code",
   "execution_count": 140,
   "id": "a385ca28",
   "metadata": {},
   "outputs": [
    {
     "data": {
      "image/png": "[encoded data removed]",
      "text/plain": [
       "<Figure size 1200x700 with 1 Axes>"
      ]
     },
     "metadata": {},
     "output_type": "display_data"
    }
   ],
   "source": [
    "fig, ax = plt.subplots(1, 1, figsize=(12, 7))\n",
    "clist = ['pink', 'orange', 'green']\n",
    "ax.bar(test_snd4plt_sorted_keys, test_snd4plt_sorted_values, color=clist)\n",
    "ax.set_title(\"Test Data Sources\", fontweight='bold')\n",
    "\n",
    "for idx, value in enumerate(test_snd4plt_sorted_values):\n",
    "    ax.text(x=idx, y=value+100, s=value, ha='center', fontweight='bold')\n",
    "    \n",
    "plt.show()"
   ]
  },
  {
   "cell_type": "markdown",
   "id": "9d233d0a",
   "metadata": {},
   "source": [
    "### Label Distribution of Each Source"
   ]
  },
  {
   "cell_type": "code",
   "execution_count": 202,
   "id": "a6ccf198",
   "metadata": {},
   "outputs": [],
   "source": [
    "pedia_train = train_data[train_data['source'] == 'wikipedia']\n",
    "tree_train = train_data[train_data['source'] == 'wikitree']\n",
    "policy_train = train_data[train_data['source'] == 'policy_briefing']"
   ]
  },
  {
   "cell_type": "code",
   "execution_count": 204,
   "id": "f2c17ff0",
   "metadata": {},
   "outputs": [
    {
     "data": {
      "text/html": [
       "<div>\n",
       "<style scoped>\n",
       "    .dataframe tbody tr th:only-of-type {\n",
       "        vertical-align: middle;\n",
       "    }\n",
       "\n",
       "    .dataframe tbody tr th {\n",
       "        vertical-align: top;\n",
       "    }\n",
       "\n",
       "    .dataframe thead th {\n",
       "        text-align: right;\n",
       "    }\n",
       "</style>\n",
       "<table border=\"1\" class=\"dataframe\">\n",
       "  <thead>\n",
       "    <tr style=\"text-align: right;\">\n",
       "      <th></th>\n",
       "      <th>id</th>\n",
       "      <th>sentence</th>\n",
       "      <th>subject_entity</th>\n",
       "      <th>object_entity</th>\n",
       "      <th>label</th>\n",
       "      <th>source</th>\n",
       "    </tr>\n",
       "  </thead>\n",
       "  <tbody>\n",
       "    <tr>\n",
       "      <th>11856</th>\n",
       "      <td>11856</td>\n",
       "      <td>베트남 측은 베트남항공의 인천-하노이 노선에서 25일 시범운항을 추진할 계획이고 우...</td>\n",
       "      <td>{'word': '베트남', 'start_idx': 7, 'end_idx': 9, ...</td>\n",
       "      <td>{'word': '하노이', 'start_idx': 17, 'end_idx': 19...</td>\n",
       "      <td>no_relation</td>\n",
       "      <td>policy_briefing</td>\n",
       "    </tr>\n",
       "    <tr>\n",
       "      <th>13532</th>\n",
       "      <td>13532</td>\n",
       "      <td>박능후 중앙재난안전대책본부 1차장(보건복지부 장관)이 13일 오후 정부서울청사 합동...</td>\n",
       "      <td>{'word': '박능후', 'start_idx': 0, 'end_idx': 2, ...</td>\n",
       "      <td>{'word': '보건복지부 장관', 'start_idx': 19, 'end_idx...</td>\n",
       "      <td>per:title</td>\n",
       "      <td>policy_briefing</td>\n",
       "    </tr>\n",
       "    <tr>\n",
       "      <th>3752</th>\n",
       "      <td>3752</td>\n",
       "      <td>전세계적인 경제위기 속에서도 한국 경제는 올해 OECD 37개국 가운데 성장률 1위...</td>\n",
       "      <td>{'word': 'OECD', 'start_idx': 26, 'end_idx': 2...</td>\n",
       "      <td>{'word': '37개국', 'start_idx': 31, 'end_idx': 3...</td>\n",
       "      <td>org:number_of_employees/members</td>\n",
       "      <td>policy_briefing</td>\n",
       "    </tr>\n",
       "    <tr>\n",
       "      <th>30513</th>\n",
       "      <td>30513</td>\n",
       "      <td>문재인 대통령과 부인 김정숙 여사가 지난 19일 오전 청와대 녹지원에서 열린 제1회...</td>\n",
       "      <td>{'word': '김정숙', 'start_idx': 12, 'end_idx': 14...</td>\n",
       "      <td>{'word': '문재인', 'start_idx': 0, 'end_idx': 2, ...</td>\n",
       "      <td>per:spouse</td>\n",
       "      <td>policy_briefing</td>\n",
       "    </tr>\n",
       "    <tr>\n",
       "      <th>13936</th>\n",
       "      <td>13936</td>\n",
       "      <td>행사에서 문재인 대통령은 최기영 과기정통부 장관이 대독한 서면 축사를 통해 “지식재...</td>\n",
       "      <td>{'word': '과기정통부', 'start_idx': 18, 'end_idx': ...</td>\n",
       "      <td>{'word': '최기영', 'start_idx': 14, 'end_idx': 16...</td>\n",
       "      <td>org:top_members/employees</td>\n",
       "      <td>policy_briefing</td>\n",
       "    </tr>\n",
       "    <tr>\n",
       "      <th>26952</th>\n",
       "      <td>26952</td>\n",
       "      <td>손병두 금융위원회 부위원장은 24일 서울 중구 은행회관에서 금융리스크 대응반 회의를...</td>\n",
       "      <td>{'word': '금융위원회', 'start_idx': 4, 'end_idx': 8...</td>\n",
       "      <td>{'word': '손병두', 'start_idx': 0, 'end_idx': 2, ...</td>\n",
       "      <td>org:top_members/employees</td>\n",
       "      <td>policy_briefing</td>\n",
       "    </tr>\n",
       "    <tr>\n",
       "      <th>25224</th>\n",
       "      <td>25224</td>\n",
       "      <td>정부는 13일 홍남기 부총리 겸 기획재정부 주재로 열린 제13차 비상경제 중앙대책본...</td>\n",
       "      <td>{'word': '기획재정부', 'start_idx': 18, 'end_idx': ...</td>\n",
       "      <td>{'word': '홍남기', 'start_idx': 8, 'end_idx': 10,...</td>\n",
       "      <td>org:top_members/employees</td>\n",
       "      <td>policy_briefing</td>\n",
       "    </tr>\n",
       "    <tr>\n",
       "      <th>9769</th>\n",
       "      <td>9769</td>\n",
       "      <td>박양우 문화체육관광부 장관은 “콘텐츠산업은 디지털 전환의 최전선에서 혁신과 창의적 ...</td>\n",
       "      <td>{'word': '문화체육관광부', 'start_idx': 4, 'end_idx':...</td>\n",
       "      <td>{'word': '박양우', 'start_idx': 0, 'end_idx': 2, ...</td>\n",
       "      <td>org:top_members/employees</td>\n",
       "      <td>policy_briefing</td>\n",
       "    </tr>\n",
       "    <tr>\n",
       "      <th>10524</th>\n",
       "      <td>10524</td>\n",
       "      <td>정은경 중앙방역대책본부장(질병관리본부장, 오른쪽부터), 김강립 중앙재난안전대책본부 ...</td>\n",
       "      <td>{'word': '보건복지부', 'start_idx': 84, 'end_idx': ...</td>\n",
       "      <td>{'word': '정은경', 'start_idx': 0, 'end_idx': 2, ...</td>\n",
       "      <td>no_relation</td>\n",
       "      <td>policy_briefing</td>\n",
       "    </tr>\n",
       "    <tr>\n",
       "      <th>14106</th>\n",
       "      <td>14106</td>\n",
       "      <td>이와 함께 환경부는 전국 지자체, 한국환경공단과 함께 15일부터 약 2주간 제품·포...</td>\n",
       "      <td>{'word': '한국환경공단', 'start_idx': 19, 'end_idx':...</td>\n",
       "      <td>{'word': '환경부', 'start_idx': 6, 'end_idx': 8, ...</td>\n",
       "      <td>no_relation</td>\n",
       "      <td>policy_briefing</td>\n",
       "    </tr>\n",
       "  </tbody>\n",
       "</table>\n",
       "</div>"
      ],
      "text/plain": [
       "          id                                           sentence  \\\n",
       "11856  11856  베트남 측은 베트남항공의 인천-하노이 노선에서 25일 시범운항을 추진할 계획이고 우...   \n",
       "13532  13532  박능후 중앙재난안전대책본부 1차장(보건복지부 장관)이 13일 오후 정부서울청사 합동...   \n",
       "3752    3752  전세계적인 경제위기 속에서도 한국 경제는 올해 OECD 37개국 가운데 성장률 1위...   \n",
       "30513  30513  문재인 대통령과 부인 김정숙 여사가 지난 19일 오전 청와대 녹지원에서 열린 제1회...   \n",
       "13936  13936  행사에서 문재인 대통령은 최기영 과기정통부 장관이 대독한 서면 축사를 통해 “지식재...   \n",
       "26952  26952  손병두 금융위원회 부위원장은 24일 서울 중구 은행회관에서 금융리스크 대응반 회의를...   \n",
       "25224  25224  정부는 13일 홍남기 부총리 겸 기획재정부 주재로 열린 제13차 비상경제 중앙대책본...   \n",
       "9769    9769  박양우 문화체육관광부 장관은 “콘텐츠산업은 디지털 전환의 최전선에서 혁신과 창의적 ...   \n",
       "10524  10524  정은경 중앙방역대책본부장(질병관리본부장, 오른쪽부터), 김강립 중앙재난안전대책본부 ...   \n",
       "14106  14106  이와 함께 환경부는 전국 지자체, 한국환경공단과 함께 15일부터 약 2주간 제품·포...   \n",
       "\n",
       "                                          subject_entity  \\\n",
       "11856  {'word': '베트남', 'start_idx': 7, 'end_idx': 9, ...   \n",
       "13532  {'word': '박능후', 'start_idx': 0, 'end_idx': 2, ...   \n",
       "3752   {'word': 'OECD', 'start_idx': 26, 'end_idx': 2...   \n",
       "30513  {'word': '김정숙', 'start_idx': 12, 'end_idx': 14...   \n",
       "13936  {'word': '과기정통부', 'start_idx': 18, 'end_idx': ...   \n",
       "26952  {'word': '금융위원회', 'start_idx': 4, 'end_idx': 8...   \n",
       "25224  {'word': '기획재정부', 'start_idx': 18, 'end_idx': ...   \n",
       "9769   {'word': '문화체육관광부', 'start_idx': 4, 'end_idx':...   \n",
       "10524  {'word': '보건복지부', 'start_idx': 84, 'end_idx': ...   \n",
       "14106  {'word': '한국환경공단', 'start_idx': 19, 'end_idx':...   \n",
       "\n",
       "                                           object_entity  \\\n",
       "11856  {'word': '하노이', 'start_idx': 17, 'end_idx': 19...   \n",
       "13532  {'word': '보건복지부 장관', 'start_idx': 19, 'end_idx...   \n",
       "3752   {'word': '37개국', 'start_idx': 31, 'end_idx': 3...   \n",
       "30513  {'word': '문재인', 'start_idx': 0, 'end_idx': 2, ...   \n",
       "13936  {'word': '최기영', 'start_idx': 14, 'end_idx': 16...   \n",
       "26952  {'word': '손병두', 'start_idx': 0, 'end_idx': 2, ...   \n",
       "25224  {'word': '홍남기', 'start_idx': 8, 'end_idx': 10,...   \n",
       "9769   {'word': '박양우', 'start_idx': 0, 'end_idx': 2, ...   \n",
       "10524  {'word': '정은경', 'start_idx': 0, 'end_idx': 2, ...   \n",
       "14106  {'word': '환경부', 'start_idx': 6, 'end_idx': 8, ...   \n",
       "\n",
       "                                 label           source  \n",
       "11856                      no_relation  policy_briefing  \n",
       "13532                        per:title  policy_briefing  \n",
       "3752   org:number_of_employees/members  policy_briefing  \n",
       "30513                       per:spouse  policy_briefing  \n",
       "13936        org:top_members/employees  policy_briefing  \n",
       "26952        org:top_members/employees  policy_briefing  \n",
       "25224        org:top_members/employees  policy_briefing  \n",
       "9769         org:top_members/employees  policy_briefing  \n",
       "10524                      no_relation  policy_briefing  \n",
       "14106                      no_relation  policy_briefing  "
      ]
     },
     "execution_count": 204,
     "metadata": {},
     "output_type": "execute_result"
    }
   ],
   "source": [
    "policy_train.sample(10)"
   ]
  },
  {
   "cell_type": "code",
   "execution_count": 206,
   "id": "7b4a8ec3",
   "metadata": {},
   "outputs": [],
   "source": [
    "pedia_train_labels = pedia_train.label\n",
    "pedia_train_labels_uniq = pedia_train_labels.unique()\n",
    "tree_train_labels = tree_train.label\n",
    "tree_train_labels_uniq = tree_train_labels.unique()\n",
    "policy_train_labels = policy_train.label\n",
    "policy_train_labels_uniq = policy_train_labels.unique()"
   ]
  },
  {
   "cell_type": "code",
   "execution_count": 207,
   "id": "28a92eac",
   "metadata": {},
   "outputs": [
    {
     "name": "stdout",
     "output_type": "stream",
     "text": [
      "30\n",
      "29\n",
      "10\n"
     ]
    }
   ],
   "source": [
    "print(len(pedia_train_labels_uniq))\n",
    "print(len(tree_train_labels_uniq))\n",
    "print(len(policy_train_labels_uniq))"
   ]
  },
  {
   "cell_type": "code",
   "execution_count": 216,
   "id": "3e654010",
   "metadata": {
    "scrolled": true
   },
   "outputs": [
    {
     "data": {
      "text/plain": [
       "defaultdict(int,\n",
       "            {'nr': 0,\n",
       "             'o:t_m/e': 0,\n",
       "             'o:m': 0,\n",
       "             'o:p': 0,\n",
       "             'p:t': 0,\n",
       "             'o:a_n': 0,\n",
       "             'o:e_o': 0,\n",
       "             'o:p_o_h': 0,\n",
       "             'p:pr': 0,\n",
       "             'o:n_o_e/m': 0,\n",
       "             'p:ch': 0,\n",
       "             'p:p_o_r': 0,\n",
       "             'p:a_n': 0,\n",
       "             'p:o_f': 0,\n",
       "             'p:co': 0,\n",
       "             'p:o': 0,\n",
       "             'p:si': 0,\n",
       "             'p:sp': 0,\n",
       "             'o:f': 0,\n",
       "             'o:p/r_a': 0,\n",
       "             'o:m_o': 0,\n",
       "             'p:pa': 0,\n",
       "             'o:d': 0,\n",
       "             'p:s_a': 0,\n",
       "             'p:d_o_d': 0,\n",
       "             'p:d_o_b': 0,\n",
       "             'p:p_o_b': 0,\n",
       "             'p:p_o_d': 0,\n",
       "             'o:f_b': 0,\n",
       "             'p:r': 0})"
      ]
     },
     "execution_count": 216,
     "metadata": {},
     "output_type": "execute_result"
    }
   ],
   "source": [
    "template_labels_num_dict = defaultdict(int)\n",
    "for _, nick in label2nick.items():\n",
    "    template_labels_num_dict[nick] = 0\n",
    "\n",
    "template_labels_num_dict"
   ]
  },
  {
   "cell_type": "code",
   "execution_count": 218,
   "id": "7c3a3288",
   "metadata": {
    "scrolled": true
   },
   "outputs": [
    {
     "data": {
      "text/plain": [
       "defaultdict(int,\n",
       "            {'nr': 7382,\n",
       "             'o:t_m/e': 949,\n",
       "             'o:m': 298,\n",
       "             'o:p': 156,\n",
       "             'p:t': 1208,\n",
       "             'o:a_n': 899,\n",
       "             'o:e_o': 1968,\n",
       "             'o:p_o_h': 991,\n",
       "             'p:pr': 113,\n",
       "             'o:n_o_e/m': 25,\n",
       "             'p:ch': 268,\n",
       "             'p:p_o_r': 152,\n",
       "             'p:a_n': 513,\n",
       "             'p:o_f': 190,\n",
       "             'p:co': 432,\n",
       "             'p:o': 1143,\n",
       "             'p:si': 122,\n",
       "             'p:sp': 433,\n",
       "             'o:f': 411,\n",
       "             'o:p/r_a': 96,\n",
       "             'o:m_o': 1275,\n",
       "             'p:pa': 500,\n",
       "             'o:d': 65,\n",
       "             'p:s_a': 72,\n",
       "             'p:d_o_d': 412,\n",
       "             'p:d_o_b': 1122,\n",
       "             'p:p_o_b': 162,\n",
       "             'p:p_o_d': 39,\n",
       "             'o:f_b': 130,\n",
       "             'p:r': 94})"
      ]
     },
     "execution_count": 218,
     "metadata": {},
     "output_type": "execute_result"
    }
   ],
   "source": [
    "pedia_labels_num_dict = template_labels_num_dict.copy()\n",
    "for pedia_label in pedia_train_labels:\n",
    "    pedia_labels_num_dict[name2nick[pedia_label]] += 1\n",
    "    \n",
    "pedia_labels_num_dict # pedia_lnd"
   ]
  },
  {
   "cell_type": "code",
   "execution_count": 219,
   "id": "248a9e07",
   "metadata": {
    "scrolled": true
   },
   "outputs": [
    {
     "data": {
      "text/plain": [
       "defaultdict(int,\n",
       "            {'nr': 2122,\n",
       "             'o:t_m/e': 3235,\n",
       "             'o:m': 121,\n",
       "             'o:p': 224,\n",
       "             'p:t': 876,\n",
       "             'o:a_n': 415,\n",
       "             'o:e_o': 1599,\n",
       "             'o:p_o_h': 202,\n",
       "             'p:pr': 26,\n",
       "             'o:n_o_e/m': 20,\n",
       "             'p:ch': 36,\n",
       "             'p:p_o_r': 41,\n",
       "             'p:a_n': 488,\n",
       "             'p:o_f': 0,\n",
       "             'p:co': 102,\n",
       "             'p:o': 91,\n",
       "             'p:si': 14,\n",
       "             'p:sp': 359,\n",
       "             'o:f': 39,\n",
       "             'o:p/r_a': 2,\n",
       "             'o:m_o': 583,\n",
       "             'p:pa': 20,\n",
       "             'o:d': 1,\n",
       "             'p:s_a': 10,\n",
       "             'p:d_o_d': 6,\n",
       "             'p:d_o_b': 8,\n",
       "             'p:p_o_b': 4,\n",
       "             'p:p_o_d': 1,\n",
       "             'o:f_b': 25,\n",
       "             'p:r': 2})"
      ]
     },
     "execution_count": 219,
     "metadata": {},
     "output_type": "execute_result"
    }
   ],
   "source": [
    "tree_labels_num_dict = template_labels_num_dict.copy()\n",
    "for tree_label in tree_train_labels:\n",
    "    tree_labels_num_dict[name2nick[tree_label]] += 1\n",
    "    \n",
    "tree_labels_num_dict # tree_lnd"
   ]
  },
  {
   "cell_type": "code",
   "execution_count": 220,
   "id": "44912313",
   "metadata": {
    "scrolled": true
   },
   "outputs": [
    {
     "data": {
      "text/plain": [
       "defaultdict(int,\n",
       "            {'nr': 30,\n",
       "             'o:t_m/e': 100,\n",
       "             'o:m': 1,\n",
       "             'o:p': 0,\n",
       "             'p:t': 19,\n",
       "             'o:a_n': 6,\n",
       "             'o:e_o': 6,\n",
       "             'o:p_o_h': 2,\n",
       "             'p:pr': 0,\n",
       "             'o:n_o_e/m': 3,\n",
       "             'p:ch': 0,\n",
       "             'p:p_o_r': 0,\n",
       "             'p:a_n': 0,\n",
       "             'p:o_f': 0,\n",
       "             'p:co': 0,\n",
       "             'p:o': 0,\n",
       "             'p:si': 0,\n",
       "             'p:sp': 3,\n",
       "             'o:f': 0,\n",
       "             'o:p/r_a': 0,\n",
       "             'o:m_o': 8,\n",
       "             'p:pa': 0,\n",
       "             'o:d': 0,\n",
       "             'p:s_a': 0,\n",
       "             'p:d_o_d': 0,\n",
       "             'p:d_o_b': 0,\n",
       "             'p:p_o_b': 0,\n",
       "             'p:p_o_d': 0,\n",
       "             'o:f_b': 0,\n",
       "             'p:r': 0})"
      ]
     },
     "execution_count": 220,
     "metadata": {},
     "output_type": "execute_result"
    }
   ],
   "source": [
    "policy_labels_num_dict = template_labels_num_dict.copy()\n",
    "for policy_label in policy_train_labels:\n",
    "    policy_labels_num_dict[name2nick[policy_label]] += 1\n",
    "    \n",
    "policy_labels_num_dict # tree_lnd"
   ]
  },
  {
   "cell_type": "code",
   "execution_count": 224,
   "id": "da76f418",
   "metadata": {},
   "outputs": [],
   "source": [
    "# pedia_lnd4plt_sorted = sorted(pedia_labels_num_dict.items(), reverse=True, key=lambda x: x[1])\n",
    "# tree_lnd4plt_sorted = sorted(tree_labels_num_dict.items(), reverse=True, key=lambda x: x[1])\n",
    "# policy_lnd4plt_sorted = sorted(policy_labels_num_dict.items(), reverse=True, key=lambda x: x[1])\n",
    "\n",
    "# pedia_lnd4plt_sorted_keys = [lnd[0] for lnd in pedia_lnd4plt_sorted]\n",
    "# pedia_lnd4plt_sorted_values = [lnd[1] for lnd in pedia_lnd4plt_sorted]\n",
    "# tree_lnd4plt_sorted_keys = [lnd[0] for lnd in tree_lnd4plt_sorted]\n",
    "# tree_lnd4plt_sorted_values = [lnd[1] for lnd in tree_lnd4plt_sorted]\n",
    "# policy_lnd4plt_sorted_keys = [lnd[0] for lnd in policy_lnd4plt_sorted]\n",
    "# policy_lnd4plt_sorted_values = [lnd[1] for lnd in policy_lnd4plt_sorted]"
   ]
  },
  {
   "cell_type": "code",
   "execution_count": 246,
   "id": "aae152e2",
   "metadata": {},
   "outputs": [
    {
     "name": "stderr",
     "output_type": "stream",
     "text": [
      "/tmp/ipykernel_6593/1455781797.py:19: UserWarning: FixedFormatter should only be used together with FixedLocator\n",
      "  ax.set_xticklabels(template_labels_num_dict.keys(), rotation='vertical', fontsize=7)\n"
     ]
    },
    {
     "data": {
      "image/png": "[encoded data removed]",
      "text/plain": [
       "<Figure size 1200x1500 with 3 Axes>"
      ]
     },
     "metadata": {},
     "output_type": "display_data"
    }
   ],
   "source": [
    "fig, axes = plt.subplots(3, 1, figsize=(12, 15))\n",
    "clist = []\n",
    "for tlnd in template_labels_num_dict.keys():\n",
    "    if tlnd.startswith('o'):\n",
    "        clist.append('blue')\n",
    "    elif tlnd.startswith('p'):\n",
    "        clist.append('red')\n",
    "    else:\n",
    "        clist.append('gray')\n",
    "axes[0].bar(template_labels_num_dict.keys(), pedia_labels_num_dict.values(), color=clist)\n",
    "axes[1].bar(template_labels_num_dict.keys(), tree_labels_num_dict.values(), color=clist)\n",
    "axes[2].bar(template_labels_num_dict.keys(), policy_labels_num_dict.values(), color=clist)\n",
    "\n",
    "values = [pedia_labels_num_dict.values(), tree_labels_num_dict.values(), policy_labels_num_dict.values()]\n",
    "margins = [100, 40, 1]\n",
    "titles = ['Wikipedia', 'Wikitree', 'Policy-Briefing']\n",
    "for ax, value, margin, title in zip(axes, values, margins, titles):\n",
    "    ax.set_title(title + \" Data Distribution\", fontweight='bold', fontsize=13)\n",
    "    ax.set_xticklabels(template_labels_num_dict.keys(), rotation='vertical', fontsize=7)\n",
    "    for idx, value in enumerate(value):\n",
    "        ax.text(idx, value + margin, s=value, ha='center', fontweight='bold', fontsize=8)\n",
    "\n",
    "plt.tight_layout()\n",
    "plt.show()"
   ]
  },
  {
   "cell_type": "markdown",
   "id": "43844732",
   "metadata": {},
   "source": [
    "## Checking Sentence Lengths"
   ]
  },
  {
   "cell_type": "code",
   "execution_count": 96,
   "id": "ad0a6737",
   "metadata": {},
   "outputs": [
    {
     "data": {
      "text/html": [
       "<div>\n",
       "<style scoped>\n",
       "    .dataframe tbody tr th:only-of-type {\n",
       "        vertical-align: middle;\n",
       "    }\n",
       "\n",
       "    .dataframe tbody tr th {\n",
       "        vertical-align: top;\n",
       "    }\n",
       "\n",
       "    .dataframe thead th {\n",
       "        text-align: right;\n",
       "    }\n",
       "</style>\n",
       "<table border=\"1\" class=\"dataframe\">\n",
       "  <thead>\n",
       "    <tr style=\"text-align: right;\">\n",
       "      <th></th>\n",
       "      <th>id</th>\n",
       "      <th>sentence</th>\n",
       "      <th>subject_entity</th>\n",
       "      <th>object_entity</th>\n",
       "      <th>label</th>\n",
       "      <th>source</th>\n",
       "    </tr>\n",
       "  </thead>\n",
       "  <tbody>\n",
       "    <tr>\n",
       "      <th>11163</th>\n",
       "      <td>11163</td>\n",
       "      <td>헤로도토스는 어떤 이는 4천명의 그리스군이 죽었다고 하지만, 산길을 경계하던 포키스...</td>\n",
       "      <td>{'word': '포키스', 'start_idx': 43, 'end_idx': 45...</td>\n",
       "      <td>{'word': '그리스', 'start_idx': 94, 'end_idx': 96...</td>\n",
       "      <td>no_relation</td>\n",
       "      <td>wikipedia</td>\n",
       "    </tr>\n",
       "    <tr>\n",
       "      <th>31740</th>\n",
       "      <td>31740</td>\n",
       "      <td>이강인과 함께 '코파 트로피' 최종 후보 10인에 이름을 올린 선수들은 주앙 펠릭스...</td>\n",
       "      <td>{'word': '사무엘 추쿠에제', 'start_idx': 145, 'end_id...</td>\n",
       "      <td>{'word': '비야레알', 'start_idx': 154, 'end_idx': ...</td>\n",
       "      <td>per:employee_of</td>\n",
       "      <td>wikitree</td>\n",
       "    </tr>\n",
       "    <tr>\n",
       "      <th>9240</th>\n",
       "      <td>9240</td>\n",
       "      <td>강동훈(음력 1982년 3월 26일~)은 대한민국의 리그 오브 레전드 프로게임단 감...</td>\n",
       "      <td>{'word': '강동훈', 'start_idx': 0, 'end_idx': 2, ...</td>\n",
       "      <td>{'word': '프로게임단 감독', 'start_idx': 39, 'end_idx...</td>\n",
       "      <td>per:title</td>\n",
       "      <td>wikipedia</td>\n",
       "    </tr>\n",
       "    <tr>\n",
       "      <th>22583</th>\n",
       "      <td>22583</td>\n",
       "      <td>경상북도청(慶尙北道廳)은 경상북도의 행정을 총괄하는 지방행정기관으로 경상북도 안동시...</td>\n",
       "      <td>{'word': '경상북도청', 'start_idx': 0, 'end_idx': 4...</td>\n",
       "      <td>{'word': '안동시 풍천면 도청대로 455', 'start_idx': 43, ...</td>\n",
       "      <td>org:place_of_headquarters</td>\n",
       "      <td>wikipedia</td>\n",
       "    </tr>\n",
       "    <tr>\n",
       "      <th>11784</th>\n",
       "      <td>11784</td>\n",
       "      <td>제7회 전국동시지방선거에서도 박남춘 현 인천광역시장이 1위를 못했던 곳 역시 바로 ...</td>\n",
       "      <td>{'word': '박남춘', 'start_idx': 16, 'end_idx': 18...</td>\n",
       "      <td>{'word': '인천광역시', 'start_idx': 22, 'end_idx': ...</td>\n",
       "      <td>per:employee_of</td>\n",
       "      <td>wikipedia</td>\n",
       "    </tr>\n",
       "    <tr>\n",
       "      <th>20331</th>\n",
       "      <td>20331</td>\n",
       "      <td>1997년과 1998년에는 한 해 동안 한보철강 (現 현대제철), 삼미그룹, 진로그...</td>\n",
       "      <td>{'word': '강원산업', 'start_idx': 188, 'end_idx': ...</td>\n",
       "      <td>{'word': '현대제철', 'start_idx': 30, 'end_idx': 3...</td>\n",
       "      <td>no_relation</td>\n",
       "      <td>wikipedia</td>\n",
       "    </tr>\n",
       "    <tr>\n",
       "      <th>32125</th>\n",
       "      <td>32125</td>\n",
       "      <td>이 외에도 핀란드의 멜로딕 데스 메탈 밴드 칠드런 오브 보돔의 알렉시 라이호도 노래...</td>\n",
       "      <td>{'word': '칠드런 오브 보돔', 'start_idx': 24, 'end_id...</td>\n",
       "      <td>{'word': '핀란드', 'start_idx': 6, 'end_idx': 8, ...</td>\n",
       "      <td>org:place_of_headquarters</td>\n",
       "      <td>wikipedia</td>\n",
       "    </tr>\n",
       "    <tr>\n",
       "      <th>25926</th>\n",
       "      <td>25926</td>\n",
       "      <td>우리은행은 국내 IB(투자은행)그룹, 베트남우리은행 등과 협업을 통해 비엣젯의 '에...</td>\n",
       "      <td>{'word': '베트남우리은행', 'start_idx': 21, 'end_idx'...</td>\n",
       "      <td>{'word': '1억4000만달러', 'start_idx': 65, 'end_id...</td>\n",
       "      <td>no_relation</td>\n",
       "      <td>wikitree</td>\n",
       "    </tr>\n",
       "    <tr>\n",
       "      <th>5627</th>\n",
       "      <td>5627</td>\n",
       "      <td>비슷한 문맥에서 베를렌은 스테판 말라르메(Stéphane Mallarmé), 아르튀...</td>\n",
       "      <td>{'word': '베를렌', 'start_idx': 9, 'end_idx': 11,...</td>\n",
       "      <td>{'word': '아르튀르 랭보', 'start_idx': 43, 'end_idx'...</td>\n",
       "      <td>no_relation</td>\n",
       "      <td>wikipedia</td>\n",
       "    </tr>\n",
       "    <tr>\n",
       "      <th>2780</th>\n",
       "      <td>2780</td>\n",
       "      <td>특히 아이스하키(NHL)에서는 공식적으로 싸움이 허용되지만, 선수들은 무조건 맨손으...</td>\n",
       "      <td>{'word': 'NHL', 'start_idx': 9, 'end_idx': 11,...</td>\n",
       "      <td>{'word': '아이스하키', 'start_idx': 3, 'end_idx': 7...</td>\n",
       "      <td>org:alternate_names</td>\n",
       "      <td>wikitree</td>\n",
       "    </tr>\n",
       "  </tbody>\n",
       "</table>\n",
       "</div>"
      ],
      "text/plain": [
       "          id                                           sentence  \\\n",
       "11163  11163  헤로도토스는 어떤 이는 4천명의 그리스군이 죽었다고 하지만, 산길을 경계하던 포키스...   \n",
       "31740  31740  이강인과 함께 '코파 트로피' 최종 후보 10인에 이름을 올린 선수들은 주앙 펠릭스...   \n",
       "9240    9240  강동훈(음력 1982년 3월 26일~)은 대한민국의 리그 오브 레전드 프로게임단 감...   \n",
       "22583  22583  경상북도청(慶尙北道廳)은 경상북도의 행정을 총괄하는 지방행정기관으로 경상북도 안동시...   \n",
       "11784  11784  제7회 전국동시지방선거에서도 박남춘 현 인천광역시장이 1위를 못했던 곳 역시 바로 ...   \n",
       "20331  20331  1997년과 1998년에는 한 해 동안 한보철강 (現 현대제철), 삼미그룹, 진로그...   \n",
       "32125  32125  이 외에도 핀란드의 멜로딕 데스 메탈 밴드 칠드런 오브 보돔의 알렉시 라이호도 노래...   \n",
       "25926  25926  우리은행은 국내 IB(투자은행)그룹, 베트남우리은행 등과 협업을 통해 비엣젯의 '에...   \n",
       "5627    5627  비슷한 문맥에서 베를렌은 스테판 말라르메(Stéphane Mallarmé), 아르튀...   \n",
       "2780    2780  특히 아이스하키(NHL)에서는 공식적으로 싸움이 허용되지만, 선수들은 무조건 맨손으...   \n",
       "\n",
       "                                          subject_entity  \\\n",
       "11163  {'word': '포키스', 'start_idx': 43, 'end_idx': 45...   \n",
       "31740  {'word': '사무엘 추쿠에제', 'start_idx': 145, 'end_id...   \n",
       "9240   {'word': '강동훈', 'start_idx': 0, 'end_idx': 2, ...   \n",
       "22583  {'word': '경상북도청', 'start_idx': 0, 'end_idx': 4...   \n",
       "11784  {'word': '박남춘', 'start_idx': 16, 'end_idx': 18...   \n",
       "20331  {'word': '강원산업', 'start_idx': 188, 'end_idx': ...   \n",
       "32125  {'word': '칠드런 오브 보돔', 'start_idx': 24, 'end_id...   \n",
       "25926  {'word': '베트남우리은행', 'start_idx': 21, 'end_idx'...   \n",
       "5627   {'word': '베를렌', 'start_idx': 9, 'end_idx': 11,...   \n",
       "2780   {'word': 'NHL', 'start_idx': 9, 'end_idx': 11,...   \n",
       "\n",
       "                                           object_entity  \\\n",
       "11163  {'word': '그리스', 'start_idx': 94, 'end_idx': 96...   \n",
       "31740  {'word': '비야레알', 'start_idx': 154, 'end_idx': ...   \n",
       "9240   {'word': '프로게임단 감독', 'start_idx': 39, 'end_idx...   \n",
       "22583  {'word': '안동시 풍천면 도청대로 455', 'start_idx': 43, ...   \n",
       "11784  {'word': '인천광역시', 'start_idx': 22, 'end_idx': ...   \n",
       "20331  {'word': '현대제철', 'start_idx': 30, 'end_idx': 3...   \n",
       "32125  {'word': '핀란드', 'start_idx': 6, 'end_idx': 8, ...   \n",
       "25926  {'word': '1억4000만달러', 'start_idx': 65, 'end_id...   \n",
       "5627   {'word': '아르튀르 랭보', 'start_idx': 43, 'end_idx'...   \n",
       "2780   {'word': '아이스하키', 'start_idx': 3, 'end_idx': 7...   \n",
       "\n",
       "                           label     source  \n",
       "11163                no_relation  wikipedia  \n",
       "31740            per:employee_of   wikitree  \n",
       "9240                   per:title  wikipedia  \n",
       "22583  org:place_of_headquarters  wikipedia  \n",
       "11784            per:employee_of  wikipedia  \n",
       "20331                no_relation  wikipedia  \n",
       "32125  org:place_of_headquarters  wikipedia  \n",
       "25926                no_relation   wikitree  \n",
       "5627                 no_relation  wikipedia  \n",
       "2780         org:alternate_names   wikitree  "
      ]
     },
     "execution_count": 96,
     "metadata": {},
     "output_type": "execute_result"
    }
   ],
   "source": [
    "train_data.sample(10)"
   ]
  },
  {
   "cell_type": "code",
   "execution_count": 97,
   "id": "77e20e1f",
   "metadata": {},
   "outputs": [
    {
     "data": {
      "text/html": [
       "<div>\n",
       "<style scoped>\n",
       "    .dataframe tbody tr th:only-of-type {\n",
       "        vertical-align: middle;\n",
       "    }\n",
       "\n",
       "    .dataframe tbody tr th {\n",
       "        vertical-align: top;\n",
       "    }\n",
       "\n",
       "    .dataframe thead th {\n",
       "        text-align: right;\n",
       "    }\n",
       "</style>\n",
       "<table border=\"1\" class=\"dataframe\">\n",
       "  <thead>\n",
       "    <tr style=\"text-align: right;\">\n",
       "      <th></th>\n",
       "      <th>id</th>\n",
       "      <th>sentence</th>\n",
       "      <th>subject_entity</th>\n",
       "      <th>object_entity</th>\n",
       "      <th>label</th>\n",
       "      <th>source</th>\n",
       "    </tr>\n",
       "  </thead>\n",
       "  <tbody>\n",
       "    <tr>\n",
       "      <th>649</th>\n",
       "      <td>649</td>\n",
       "      <td>이에 따라 삼성전자는 일본 정부의 '한국 수출 규제 대상'에 오른 3개 핵심 소재 ...</td>\n",
       "      <td>{'word': '삼성전자', 'start_idx': 6, 'end_idx': 9,...</td>\n",
       "      <td>{'word': '일본 정부', 'start_idx': 12, 'end_idx': ...</td>\n",
       "      <td>100</td>\n",
       "      <td>wikitree</td>\n",
       "    </tr>\n",
       "    <tr>\n",
       "      <th>5990</th>\n",
       "      <td>5990</td>\n",
       "      <td>엠비아이는 ‘서울국제발명전시회’에서 '파워트레인(POWERTRAIN)\"'으로 영예의...</td>\n",
       "      <td>{'word': '엠비아이', 'start_idx': 0, 'end_idx': 3,...</td>\n",
       "      <td>{'word': '파워트레인', 'start_idx': 21, 'end_idx': ...</td>\n",
       "      <td>100</td>\n",
       "      <td>wikitree</td>\n",
       "    </tr>\n",
       "    <tr>\n",
       "      <th>6581</th>\n",
       "      <td>6581</td>\n",
       "      <td>그들은 \"아니 오른손 왜 거기에 올리는데\", \"진짜 손이 왜 저기 가 있냐\", \"그...</td>\n",
       "      <td>{'word': '권창훈', 'start_idx': 63, 'end_idx': 65...</td>\n",
       "      <td>{'word': '선수', 'start_idx': 67, 'end_idx': 68,...</td>\n",
       "      <td>100</td>\n",
       "      <td>wikitree</td>\n",
       "    </tr>\n",
       "    <tr>\n",
       "      <th>7735</th>\n",
       "      <td>7735</td>\n",
       "      <td>김 연구원은 “현대해상은 과거 실손보험 비중이 커 보험료 인상 규제로 인해 위험손해...</td>\n",
       "      <td>{'word': '현대해상', 'start_idx': 8, 'end_idx': 11...</td>\n",
       "      <td>{'word': '연구원', 'start_idx': 2, 'end_idx': 4, ...</td>\n",
       "      <td>100</td>\n",
       "      <td>wikitree</td>\n",
       "    </tr>\n",
       "    <tr>\n",
       "      <th>7497</th>\n",
       "      <td>7497</td>\n",
       "      <td>상해 총영사관의 외무성 경찰사에서는 \"윤봉길은 두들겨 맞고 기절해 군인과 헌병의 힘...</td>\n",
       "      <td>{'word': '외무성', 'start_idx': 9, 'end_idx': 11,...</td>\n",
       "      <td>{'word': '군인', 'start_idx': 37, 'end_idx': 38,...</td>\n",
       "      <td>100</td>\n",
       "      <td>wikipedia</td>\n",
       "    </tr>\n",
       "    <tr>\n",
       "      <th>6734</th>\n",
       "      <td>6734</td>\n",
       "      <td>DB금융투자는 19일 삼성엔지니어링에 대해 현재 업황과는 무관한 수주 성장세를 시현...</td>\n",
       "      <td>{'word': 'DB금융투자', 'start_idx': 0, 'end_idx': ...</td>\n",
       "      <td>{'word': '19일', 'start_idx': 8, 'end_idx': 10,...</td>\n",
       "      <td>100</td>\n",
       "      <td>wikitree</td>\n",
       "    </tr>\n",
       "    <tr>\n",
       "      <th>479</th>\n",
       "      <td>479</td>\n",
       "      <td>서울성경신학대학원대학교는 6.25 전쟁이 발발하자 목회자와 성도들이 경남 거제도로 ...</td>\n",
       "      <td>{'word': '하나님', 'start_idx': 63, 'end_idx': 65...</td>\n",
       "      <td>{'word': '거제도', 'start_idx': 41, 'end_idx': 43...</td>\n",
       "      <td>100</td>\n",
       "      <td>wikipedia</td>\n",
       "    </tr>\n",
       "    <tr>\n",
       "      <th>84</th>\n",
       "      <td>84</td>\n",
       "      <td>공안의 사인, 강릉의 미방도 항복시켰다.</td>\n",
       "      <td>{'word': '공안', 'start_idx': 0, 'end_idx': 1, '...</td>\n",
       "      <td>{'word': '강릉', 'start_idx': 8, 'end_idx': 9, '...</td>\n",
       "      <td>100</td>\n",
       "      <td>wikipedia</td>\n",
       "    </tr>\n",
       "    <tr>\n",
       "      <th>7020</th>\n",
       "      <td>7020</td>\n",
       "      <td>한편 진도군은 부군수를 단장으로 신속집행 추진단을 구성, 추진상황 점검회의 개최와 ...</td>\n",
       "      <td>{'word': '진도군', 'start_idx': 3, 'end_idx': 5, ...</td>\n",
       "      <td>{'word': '부군수', 'start_idx': 8, 'end_idx': 10,...</td>\n",
       "      <td>100</td>\n",
       "      <td>wikitree</td>\n",
       "    </tr>\n",
       "    <tr>\n",
       "      <th>3366</th>\n",
       "      <td>3366</td>\n",
       "      <td>유명한 드레이크 방정식을 고안한 사람이며, 당시 코넬 대학교 소속이었던 프랭크 드레...</td>\n",
       "      <td>{'word': '코넬 대학교', 'start_idx': 27, 'end_idx':...</td>\n",
       "      <td>{'word': '프랭크 드레이크', 'start_idx': 40, 'end_idx...</td>\n",
       "      <td>100</td>\n",
       "      <td>wikipedia</td>\n",
       "    </tr>\n",
       "  </tbody>\n",
       "</table>\n",
       "</div>"
      ],
      "text/plain": [
       "        id                                           sentence  \\\n",
       "649    649  이에 따라 삼성전자는 일본 정부의 '한국 수출 규제 대상'에 오른 3개 핵심 소재 ...   \n",
       "5990  5990  엠비아이는 ‘서울국제발명전시회’에서 '파워트레인(POWERTRAIN)\"'으로 영예의...   \n",
       "6581  6581  그들은 \"아니 오른손 왜 거기에 올리는데\", \"진짜 손이 왜 저기 가 있냐\", \"그...   \n",
       "7735  7735  김 연구원은 “현대해상은 과거 실손보험 비중이 커 보험료 인상 규제로 인해 위험손해...   \n",
       "7497  7497  상해 총영사관의 외무성 경찰사에서는 \"윤봉길은 두들겨 맞고 기절해 군인과 헌병의 힘...   \n",
       "6734  6734  DB금융투자는 19일 삼성엔지니어링에 대해 현재 업황과는 무관한 수주 성장세를 시현...   \n",
       "479    479  서울성경신학대학원대학교는 6.25 전쟁이 발발하자 목회자와 성도들이 경남 거제도로 ...   \n",
       "84      84                             공안의 사인, 강릉의 미방도 항복시켰다.   \n",
       "7020  7020  한편 진도군은 부군수를 단장으로 신속집행 추진단을 구성, 추진상황 점검회의 개최와 ...   \n",
       "3366  3366  유명한 드레이크 방정식을 고안한 사람이며, 당시 코넬 대학교 소속이었던 프랭크 드레...   \n",
       "\n",
       "                                         subject_entity  \\\n",
       "649   {'word': '삼성전자', 'start_idx': 6, 'end_idx': 9,...   \n",
       "5990  {'word': '엠비아이', 'start_idx': 0, 'end_idx': 3,...   \n",
       "6581  {'word': '권창훈', 'start_idx': 63, 'end_idx': 65...   \n",
       "7735  {'word': '현대해상', 'start_idx': 8, 'end_idx': 11...   \n",
       "7497  {'word': '외무성', 'start_idx': 9, 'end_idx': 11,...   \n",
       "6734  {'word': 'DB금융투자', 'start_idx': 0, 'end_idx': ...   \n",
       "479   {'word': '하나님', 'start_idx': 63, 'end_idx': 65...   \n",
       "84    {'word': '공안', 'start_idx': 0, 'end_idx': 1, '...   \n",
       "7020  {'word': '진도군', 'start_idx': 3, 'end_idx': 5, ...   \n",
       "3366  {'word': '코넬 대학교', 'start_idx': 27, 'end_idx':...   \n",
       "\n",
       "                                          object_entity  label     source  \n",
       "649   {'word': '일본 정부', 'start_idx': 12, 'end_idx': ...    100   wikitree  \n",
       "5990  {'word': '파워트레인', 'start_idx': 21, 'end_idx': ...    100   wikitree  \n",
       "6581  {'word': '선수', 'start_idx': 67, 'end_idx': 68,...    100   wikitree  \n",
       "7735  {'word': '연구원', 'start_idx': 2, 'end_idx': 4, ...    100   wikitree  \n",
       "7497  {'word': '군인', 'start_idx': 37, 'end_idx': 38,...    100  wikipedia  \n",
       "6734  {'word': '19일', 'start_idx': 8, 'end_idx': 10,...    100   wikitree  \n",
       "479   {'word': '거제도', 'start_idx': 41, 'end_idx': 43...    100  wikipedia  \n",
       "84    {'word': '강릉', 'start_idx': 8, 'end_idx': 9, '...    100  wikipedia  \n",
       "7020  {'word': '부군수', 'start_idx': 8, 'end_idx': 10,...    100   wikitree  \n",
       "3366  {'word': '프랭크 드레이크', 'start_idx': 40, 'end_idx...    100  wikipedia  "
      ]
     },
     "execution_count": 97,
     "metadata": {},
     "output_type": "execute_result"
    }
   ],
   "source": [
    "test_data.sample(10)"
   ]
  },
  {
   "cell_type": "code",
   "execution_count": 98,
   "id": "1ed660bf",
   "metadata": {},
   "outputs": [],
   "source": [
    "train_sentences = train_data.sentence\n",
    "train_subjects = train_data.subject_entity\n",
    "train_objects = train_data.object_entity"
   ]
  },
  {
   "cell_type": "code",
   "execution_count": 99,
   "id": "b380c205",
   "metadata": {},
   "outputs": [
    {
     "data": {
      "text/plain": [
       "0        〈Something〉는 조지 해리슨이 쓰고 비틀즈가 1969년 앨범 《Abbey R...\n",
       "1        호남이 기반인 바른미래당·대안신당·민주평화당이 우여곡절 끝에 합당해 민생당(가칭)으...\n",
       "2        K리그2에서 성적 1위를 달리고 있는 광주FC는 지난 26일 한국프로축구연맹으로부터...\n",
       "3        균일가 생활용품점 (주)아성다이소(대표 박정부)는 코로나19 바이러스로 어려움을 겪...\n",
       "4        1967년 프로 야구 드래프트 1순위로 요미우리 자이언츠에게 입단하면서 등번호는 8...\n",
       "                               ...                        \n",
       "32465    한국당은 7일 오전 9시부터 오후 5시까지 진행된 원내대표 및 정책위의장 후보자 등...\n",
       "32466    법포는 다시 최시형, 서병학, 손병희 직계인 북접과 다시 서장옥, 전봉준, 김개남을...\n",
       "32467    완도군(군수 신우철)이 국토교통부에서 실시한 '2019 교통문화지수 실태조사'에서 ...\n",
       "32468    중앙일보, JTBC 회장을 지낸 이후 중앙홀딩스 회장, 재단법인 한반도평화만들기 이...\n",
       "32469    화순군(군수 구충곤)은 17일 동면의 이장 20여 명이 코로나 19 예방을 위해 버...\n",
       "Name: sentence, Length: 32470, dtype: object"
      ]
     },
     "execution_count": 99,
     "metadata": {},
     "output_type": "execute_result"
    }
   ],
   "source": [
    "train_sentences"
   ]
  },
  {
   "cell_type": "code",
   "execution_count": 100,
   "id": "6fbf06fa",
   "metadata": {},
   "outputs": [
    {
     "data": {
      "text/plain": [
       "0        {'word': '비틀즈', 'start_idx': 24, 'end_idx': 26...\n",
       "1        {'word': '민주평화당', 'start_idx': 19, 'end_idx': ...\n",
       "2        {'word': '광주FC', 'start_idx': 21, 'end_idx': 2...\n",
       "3        {'word': '아성다이소', 'start_idx': 13, 'end_idx': ...\n",
       "4        {'word': '요미우리 자이언츠', 'start_idx': 22, 'end_id...\n",
       "                               ...                        \n",
       "32465    {'word': '유기준', 'start_idx': 93, 'end_idx': 95...\n",
       "32466    {'word': '최시형', 'start_idx': 7, 'end_idx': 9, ...\n",
       "32467    {'word': '완도군', 'start_idx': 0, 'end_idx': 2, ...\n",
       "32468    {'word': 'JTBC', 'start_idx': 6, 'end_idx': 9,...\n",
       "32469    {'word': '화순군', 'start_idx': 0, 'end_idx': 2, ...\n",
       "Name: subject_entity, Length: 32470, dtype: object"
      ]
     },
     "execution_count": 100,
     "metadata": {},
     "output_type": "execute_result"
    }
   ],
   "source": [
    "train_subjects"
   ]
  },
  {
   "cell_type": "code",
   "execution_count": 184,
   "id": "c87a5e85",
   "metadata": {},
   "outputs": [],
   "source": [
    "def label_to_num(label):\n",
    "    num_label = []\n",
    "    with open('dict_label_to_num.pkl', 'rb') as f:\n",
    "        dict_label_to_num = pickle.load(f)\n",
    "    for v in label:\n",
    "        num_label.append(dict_label_to_num[v])\n",
    "  \n",
    "    return num_label"
   ]
  },
  {
   "cell_type": "code",
   "execution_count": 185,
   "id": "b547c0dc",
   "metadata": {},
   "outputs": [],
   "source": [
    "def load_test_dataset(dataset_dir, tokenizer):\n",
    "    test_dataset = load_data(dataset_dir)\n",
    "    test_label = list(map(int,test_dataset['label'].values))\n",
    "    \n",
    "    tokenized_test = tokenized_dataset(test_dataset, tokenizer)\n",
    "    return test_dataset['id'], tokenized_test, test_label"
   ]
  },
  {
   "cell_type": "markdown",
   "id": "5a9b4e5c",
   "metadata": {},
   "source": [
    "* 모델은 baseline 코드의 klue/bert-base 우선 사용"
   ]
  },
  {
   "cell_type": "code",
   "execution_count": 188,
   "id": "77b0682f",
   "metadata": {},
   "outputs": [],
   "source": [
    "MODEL_NAME = \"klue/bert-base\"\n",
    "tokenizer = AutoTokenizer.from_pretrained(MODEL_NAME)"
   ]
  },
  {
   "cell_type": "code",
   "execution_count": 191,
   "id": "35fa7718",
   "metadata": {},
   "outputs": [],
   "source": [
    "train_dataset = load_data(\"./train/train.csv\")\n",
    "train_label = label_to_num(train_dataset['label'].values)\n",
    "test_id, test_dataset, test_label = load_test_dataset(\"./test/test_data.csv\", tokenizer)\n",
    "tokenized_train = tokenized_dataset(train_dataset, tokenizer)\n",
    "\n",
    "RE_train_dataset = RE_Dataset(tokenized_train, train_label)\n",
    "RE_test_dataset = RE_Dataset(test_dataset, test_label)"
   ]
  },
  {
   "cell_type": "code",
   "execution_count": 194,
   "id": "af14574d",
   "metadata": {},
   "outputs": [
    {
     "name": "stdout",
     "output_type": "stream",
     "text": [
      "[43, 49, 61, 55, 38, 67, 62, 71, 89, 77]\n",
      "[29, 64, 183, 70, 41, 49, 48, 38, 51, 35]\n"
     ]
    }
   ],
   "source": [
    "train_lengths = [int(RE_train_data[\"attention_mask\"].sum()) for RE_train_data in RE_train_dataset]\n",
    "test_lengths = [int(RE_test_data[\"attention_mask\"].sum()) for RE_test_data in RE_test_dataset]\n",
    "print(train_lengths[:10])\n",
    "print(test_lengths[:10])"
   ]
  },
  {
   "cell_type": "code",
   "execution_count": 195,
   "id": "a90e34a8",
   "metadata": {},
   "outputs": [
    {
     "name": "stdout",
     "output_type": "stream",
     "text": [
      "Train token sequence length - MAX: 241\n",
      "Train token sequence length - min: 18\n",
      "Train token sequence length -Aaverage: 64.55\n",
      "\n",
      "Test token sequence length - MAX: 235\n",
      "Test token sequence length - min: 20\n",
      "Test token sequence length -Aaverage: 61.47\n"
     ]
    }
   ],
   "source": [
    "print(\"Train token sequence length - MAX:\", max(train_lengths))\n",
    "print(\"Train token sequence length - min:\", min(train_lengths))\n",
    "print(\"Train token sequence length -Aaverage: {:.2f}\".format(sum(train_lengths) / len(train_lengths)))\n",
    "print()\n",
    "print(\"Test token sequence length - MAX:\", max(test_lengths))\n",
    "print(\"Test token sequence length - min:\", min(test_lengths))\n",
    "print(\"Test token sequence length -Aaverage: {:.2f}\".format(sum(test_lengths) / len(test_lengths)))"
   ]
  },
  {
   "cell_type": "code",
   "execution_count": 196,
   "id": "de3cae95",
   "metadata": {},
   "outputs": [
    {
     "data": {
      "text/plain": [
       "Text(0.5, 1.0, 'Train Dataset Token Sequence Lengths')"
      ]
     },
     "execution_count": 196,
     "metadata": {},
     "output_type": "execute_result"
    },
    {
     "data": {
      "image/png": "[encoded data removed]",
      "text/plain": [
       "<Figure size 1200x700 with 1 Axes>"
      ]
     },
     "metadata": {},
     "output_type": "display_data"
    }
   ],
   "source": [
    "plt.figure(figsize=(12, 7))\n",
    "plt.hist(train_lengths, bins=50, range=[0, 256], facecolor='b')\n",
    "plt.title('Train Dataset Token Sequence Lengths', fontweight='bold', fontsize=15)"
   ]
  },
  {
   "cell_type": "code",
   "execution_count": 197,
   "id": "7fc1eeed",
   "metadata": {},
   "outputs": [
    {
     "data": {
      "text/plain": [
       "Text(0.5, 1.0, 'Test Dataset Token Sequence Lengths')"
      ]
     },
     "execution_count": 197,
     "metadata": {},
     "output_type": "execute_result"
    },
    {
     "data": {
      "image/png": "[encoded data removed]",
      "text/plain": [
       "<Figure size 1200x700 with 1 Axes>"
      ]
     },
     "metadata": {},
     "output_type": "display_data"
    }
   ],
   "source": [
    "plt.figure(figsize=(12, 7))\n",
    "plt.hist(test_lengths, bins=50, range=[0, 256], facecolor='b')\n",
    "plt.title('Test Dataset Token Sequence Lengths', fontweight='bold', fontsize=15)"
   ]
  },
  {
   "cell_type": "code",
   "execution_count": null,
   "id": "a4c29434-3068-4e5d-9fb0-8432db20a968",
   "metadata": {},
   "outputs": [],
   "source": []
  }
 ],
 "metadata": {
  "kernelspec": {
   "display_name": "Python 3 (ipykernel)",
   "language": "python",
   "name": "python3"
  },
  "language_info": {
   "codemirror_mode": {
    "name": "ipython",
    "version": 3
   },
   "file_extension": ".py",
   "mimetype": "text/x-python",
   "name": "python",
   "nbconvert_exporter": "python",
   "pygments_lexer": "ipython3",
   "version": "3.8.5"
  }
 },
 "nbformat": 4,
 "nbformat_minor": 5
}
